{
 "metadata": {
  "language_info": {
   "codemirror_mode": {
    "name": "ipython",
    "version": 3
   },
   "file_extension": ".py",
   "mimetype": "text/x-python",
   "name": "python",
   "nbconvert_exporter": "python",
   "pygments_lexer": "ipython3",
   "version": "3.7.0-final"
  },
  "orig_nbformat": 2,
  "kernelspec": {
   "name": "Python 3.7.0 64-bit ('anaconda3': virtualenv)",
   "display_name": "Python 3.7.0 64-bit ('anaconda3': virtualenv)",
   "metadata": {
    "interpreter": {
     "hash": "639da732ab091020ab968f361f5d8817f716db792fde42dd09c3e2e290128d87"
    }
   }
  }
 },
 "nbformat": 4,
 "nbformat_minor": 2,
 "cells": [
  {
   "source": [
    "# Gross final consumption\n",
    "\n",
    "Test how renewable fuels add up to gross final consumption within each sector, i.e. which variables (renewable fuels) I need to sum to match gross final consumption (GFC) in the sector for renewables (RA000).\n",
    "\n",
    "Explore what do I miss to add up to computed bioenergy consumption.\n",
    "\n",
    "[SIEC vocabulary](http://dd.eionet.europa.eu/vocabulary/eurostat/siec/) for fuels and [Energy balance vocabulary](http://dd.eionet.europa.eu/vocabulary/eurostat/nrg_bal/) for variables.\n",
    "\n",
    "Based on the exploration below and for the sake of simplifying computed bioenergy consumption I work with general categories: Primary solid biofuels, Liquid biofuels, Biogases and Renewable municipal waste. Which means omitting Bioliquids, Charcoal and Blended biogases or their 'Sustainable' sub-categories, which – depending on the sector or a country – would make sense to include to match Gross final consumption for particular sector."
   ],
   "cell_type": "markdown",
   "metadata": {}
  },
  {
   "cell_type": "code",
   "execution_count": 1,
   "metadata": {},
   "outputs": [],
   "source": [
    "import os\n",
    "import datetime\n",
    "import pandas as pd"
   ]
  },
  {
   "cell_type": "code",
   "execution_count": 2,
   "metadata": {},
   "outputs": [],
   "source": [
    "csv_output_dir = datetime.datetime.today().strftime('%Y-%m-%d')\n",
    "\n",
    "if not os.path.exists(csv_output_dir):\n",
    "    os.mkdir(csv_output_dir)"
   ]
  },
  {
   "cell_type": "code",
   "execution_count": 3,
   "metadata": {},
   "outputs": [],
   "source": [
    "def tidy_shares(df, csv_name):\n",
    "    \"\"\"Tidy the DataFrame, return it and output to a csv file\"\"\"\n",
    "    # Year as a variable \n",
    "    df = df.melt(['siec', 'nrg_bal', 'unit', 'geo'], var_name='year')\n",
    "\n",
    "    # Moving variables in nrg_bal column in the source from rows to individual columns\n",
    "    df.set_index(['geo', 'year', 'siec', 'unit', 'nrg_bal'], inplace=True)\n",
    "    df = df.unstack()\n",
    "    # https://stackoverflow.com/questions/14507794/pandas-how-to-flatten-a-hierarchical-index-in-columns\n",
    "    df.columns = df.columns.get_level_values(1)\n",
    "    df.columns.name = None\n",
    "    df = df.reset_index()\n",
    "    # All fuels and variables for electricity but tidy\n",
    "    df.to_csv(os.path.join(os.path.abspath(csv_output_dir), csv_name), decimal=',', index_label='id')\n",
    "    return df"
   ]
  },
  {
   "cell_type": "code",
   "execution_count": 4,
   "metadata": {},
   "outputs": [],
   "source": [
    "# Standard international energy product classification (SIEC)\n",
    "# Create Dictionary from siec codes to human readable labels\n",
    "\n",
    "siec_url = 'http://dd.eionet.europa.eu/vocabulary/eurostat/siec/csv'\n",
    "siec = pd.read_csv(siec_url)\n",
    "fuels_dict = {k: v for k, v in zip(siec['Notation'], siec['Label'])}"
   ]
  },
  {
   "source": [
    "## Electricity\n",
    "\n",
    "Confirm that sum of GEP_RED for individual fuel category adds up to GFC_ELC."
   ],
   "cell_type": "markdown",
   "metadata": {}
  },
  {
   "cell_type": "code",
   "execution_count": 5,
   "metadata": {},
   "outputs": [],
   "source": [
    "# The source tsv file is hybrid with tabs and commas as separators\n",
    "el_url = 'https://ec.europa.eu/eurostat/estat-navtree-portlet-prod/BulkDownloadListing?file=data/nrg_ind_ured.tsv.gz'\n",
    "\n",
    "el = pd.read_table(el_url, delimiter='[\\t,]+')\n",
    "\n",
    "el.rename(columns={'geo\\\\time': 'geo'}, inplace=True)\n",
    "# Some column names have additional whitespace\n",
    "el.rename(columns={str(year) + ' ': year for year in range(2004, 2019)}, inplace=True)\n",
    "el.rename(columns={'2004': 2004}, inplace=True)"
   ]
  },
  {
   "cell_type": "code",
   "execution_count": 6,
   "metadata": {},
   "outputs": [
    {
     "output_type": "execute_result",
     "data": {
      "text/plain": [
       "      geo  year                siec unit  GEP_NPUMP_MIX  GEP_RED   GFC_ELC  \\\n",
       "0      AL  2004               E7000  GWH            0.0      NaN       NaN   \n",
       "1      AL  2004  R5110-5150_W6000RI  GWH            NaN    0.000       NaN   \n",
       "2      AL  2004              R5292P  GWH            NaN    0.000       NaN   \n",
       "3      AL  2004             R5292SB  GWH            NaN    0.000       NaN   \n",
       "4      AL  2004             R5292SP  GWH            NaN    0.000       NaN   \n",
       "...    ..   ...                 ...  ...            ...      ...       ...   \n",
       "10795  XK  2018               RA410  GWH            NaN    0.000       NaN   \n",
       "10796  XK  2018               RA420  GWH            NaN    2.031       NaN   \n",
       "10797  XK  2018               RA500  GWH            NaN    0.000       NaN   \n",
       "10798  XK  2018               TOTAL  GWH            NaN      NaN  6053.316   \n",
       "10799  XK  2018               W6210  GWH            NaN    0.000       NaN   \n",
       "\n",
       "       NMLPRD_MIX  NMLPRD_PURE  \n",
       "0             0.0       4256.8  \n",
       "1             NaN          NaN  \n",
       "2             NaN          NaN  \n",
       "3             NaN          NaN  \n",
       "4             NaN          NaN  \n",
       "...           ...          ...  \n",
       "10795         NaN          NaN  \n",
       "10796         NaN          NaN  \n",
       "10797         NaN          NaN  \n",
       "10798         NaN          NaN  \n",
       "10799         NaN          NaN  \n",
       "\n",
       "[10800 rows x 9 columns]"
      ],
      "text/html": "<div>\n<style scoped>\n    .dataframe tbody tr th:only-of-type {\n        vertical-align: middle;\n    }\n\n    .dataframe tbody tr th {\n        vertical-align: top;\n    }\n\n    .dataframe thead th {\n        text-align: right;\n    }\n</style>\n<table border=\"1\" class=\"dataframe\">\n  <thead>\n    <tr style=\"text-align: right;\">\n      <th></th>\n      <th>geo</th>\n      <th>year</th>\n      <th>siec</th>\n      <th>unit</th>\n      <th>GEP_NPUMP_MIX</th>\n      <th>GEP_RED</th>\n      <th>GFC_ELC</th>\n      <th>NMLPRD_MIX</th>\n      <th>NMLPRD_PURE</th>\n    </tr>\n  </thead>\n  <tbody>\n    <tr>\n      <th>0</th>\n      <td>AL</td>\n      <td>2004</td>\n      <td>E7000</td>\n      <td>GWH</td>\n      <td>0.0</td>\n      <td>NaN</td>\n      <td>NaN</td>\n      <td>0.0</td>\n      <td>4256.8</td>\n    </tr>\n    <tr>\n      <th>1</th>\n      <td>AL</td>\n      <td>2004</td>\n      <td>R5110-5150_W6000RI</td>\n      <td>GWH</td>\n      <td>NaN</td>\n      <td>0.000</td>\n      <td>NaN</td>\n      <td>NaN</td>\n      <td>NaN</td>\n    </tr>\n    <tr>\n      <th>2</th>\n      <td>AL</td>\n      <td>2004</td>\n      <td>R5292P</td>\n      <td>GWH</td>\n      <td>NaN</td>\n      <td>0.000</td>\n      <td>NaN</td>\n      <td>NaN</td>\n      <td>NaN</td>\n    </tr>\n    <tr>\n      <th>3</th>\n      <td>AL</td>\n      <td>2004</td>\n      <td>R5292SB</td>\n      <td>GWH</td>\n      <td>NaN</td>\n      <td>0.000</td>\n      <td>NaN</td>\n      <td>NaN</td>\n      <td>NaN</td>\n    </tr>\n    <tr>\n      <th>4</th>\n      <td>AL</td>\n      <td>2004</td>\n      <td>R5292SP</td>\n      <td>GWH</td>\n      <td>NaN</td>\n      <td>0.000</td>\n      <td>NaN</td>\n      <td>NaN</td>\n      <td>NaN</td>\n    </tr>\n    <tr>\n      <th>...</th>\n      <td>...</td>\n      <td>...</td>\n      <td>...</td>\n      <td>...</td>\n      <td>...</td>\n      <td>...</td>\n      <td>...</td>\n      <td>...</td>\n      <td>...</td>\n    </tr>\n    <tr>\n      <th>10795</th>\n      <td>XK</td>\n      <td>2018</td>\n      <td>RA410</td>\n      <td>GWH</td>\n      <td>NaN</td>\n      <td>0.000</td>\n      <td>NaN</td>\n      <td>NaN</td>\n      <td>NaN</td>\n    </tr>\n    <tr>\n      <th>10796</th>\n      <td>XK</td>\n      <td>2018</td>\n      <td>RA420</td>\n      <td>GWH</td>\n      <td>NaN</td>\n      <td>2.031</td>\n      <td>NaN</td>\n      <td>NaN</td>\n      <td>NaN</td>\n    </tr>\n    <tr>\n      <th>10797</th>\n      <td>XK</td>\n      <td>2018</td>\n      <td>RA500</td>\n      <td>GWH</td>\n      <td>NaN</td>\n      <td>0.000</td>\n      <td>NaN</td>\n      <td>NaN</td>\n      <td>NaN</td>\n    </tr>\n    <tr>\n      <th>10798</th>\n      <td>XK</td>\n      <td>2018</td>\n      <td>TOTAL</td>\n      <td>GWH</td>\n      <td>NaN</td>\n      <td>NaN</td>\n      <td>6053.316</td>\n      <td>NaN</td>\n      <td>NaN</td>\n    </tr>\n    <tr>\n      <th>10799</th>\n      <td>XK</td>\n      <td>2018</td>\n      <td>W6210</td>\n      <td>GWH</td>\n      <td>NaN</td>\n      <td>0.000</td>\n      <td>NaN</td>\n      <td>NaN</td>\n      <td>NaN</td>\n    </tr>\n  </tbody>\n</table>\n<p>10800 rows × 9 columns</p>\n</div>"
     },
     "metadata": {},
     "execution_count": 6
    }
   ],
   "source": [
    "el = tidy_shares(el, 'el_tidy.csv')\n",
    "el"
   ]
  },
  {
   "cell_type": "code",
   "execution_count": 7,
   "metadata": {},
   "outputs": [
    {
     "output_type": "execute_result",
     "data": {
      "text/plain": [
       "{'Electricity': 'E7000',\n",
       " 'Primary solid biofuels': 'R5110-5150_W6000RI',\n",
       " 'Pure bioliquids': 'R5292P',\n",
       " 'Sustainable blended bioliquids (only bio-part)': 'R5292SB',\n",
       " 'Sustainable pure bioliquids': 'R5292SP',\n",
       " 'Sustainable blended bioliquids (only bio-part) from non-food sources': 'R5293SB',\n",
       " 'Sustainable pure bioliquids from non-food sources': 'R5293SP',\n",
       " 'Biogases': 'R5300',\n",
       " 'Blended biogases': 'R5300B',\n",
       " 'Renewables and biofuels': 'RA000',\n",
       " 'Hydro': 'RA100',\n",
       " 'Geothermal': 'RA200',\n",
       " 'Wind': 'RA300',\n",
       " 'Solar thermal': 'RA410',\n",
       " 'Solar photovoltaic': 'RA420',\n",
       " 'Tide, wave, ocean': 'RA500',\n",
       " 'Total': 'TOTAL',\n",
       " 'Renewable municipal waste': 'W6210'}"
      ]
     },
     "metadata": {},
     "execution_count": 7
    }
   ],
   "source": [
    "# Unique fuels in the original table\n",
    "{fuels_dict[code]: code for code in el['siec'].unique()}"
   ]
  },
  {
   "cell_type": "code",
   "execution_count": 8,
   "metadata": {},
   "outputs": [
    {
     "output_type": "execute_result",
     "data": {
      "text/plain": [
       "     geo  year                siec unit  GEP_NPUMP_MIX   GEP_RED  GFC_ELC  \\\n",
       "1873  CZ  2018  R5110-5150_W6000RI  GWH            NaN  2120.884      NaN   \n",
       "1879  CZ  2018               R5300  GWH            NaN  2607.205      NaN   \n",
       "1882  CZ  2018               RA100  GWH            NaN  2235.928      NaN   \n",
       "1883  CZ  2018               RA200  GWH            NaN     0.000      NaN   \n",
       "1884  CZ  2018               RA300  GWH            NaN   596.351      NaN   \n",
       "1885  CZ  2018               RA410  GWH            NaN     0.000      NaN   \n",
       "1886  CZ  2018               RA420  GWH            NaN  2358.881      NaN   \n",
       "1887  CZ  2018               RA500  GWH            NaN     0.000      NaN   \n",
       "1889  CZ  2018               W6210  GWH            NaN   100.189      NaN   \n",
       "\n",
       "      NMLPRD_MIX  NMLPRD_PURE  \n",
       "1873         NaN          NaN  \n",
       "1879         NaN          NaN  \n",
       "1882         NaN          NaN  \n",
       "1883         NaN          NaN  \n",
       "1884         NaN          NaN  \n",
       "1885         NaN          NaN  \n",
       "1886         NaN          NaN  \n",
       "1887         NaN          NaN  \n",
       "1889         NaN          NaN  "
      ],
      "text/html": "<div>\n<style scoped>\n    .dataframe tbody tr th:only-of-type {\n        vertical-align: middle;\n    }\n\n    .dataframe tbody tr th {\n        vertical-align: top;\n    }\n\n    .dataframe thead th {\n        text-align: right;\n    }\n</style>\n<table border=\"1\" class=\"dataframe\">\n  <thead>\n    <tr style=\"text-align: right;\">\n      <th></th>\n      <th>geo</th>\n      <th>year</th>\n      <th>siec</th>\n      <th>unit</th>\n      <th>GEP_NPUMP_MIX</th>\n      <th>GEP_RED</th>\n      <th>GFC_ELC</th>\n      <th>NMLPRD_MIX</th>\n      <th>NMLPRD_PURE</th>\n    </tr>\n  </thead>\n  <tbody>\n    <tr>\n      <th>1873</th>\n      <td>CZ</td>\n      <td>2018</td>\n      <td>R5110-5150_W6000RI</td>\n      <td>GWH</td>\n      <td>NaN</td>\n      <td>2120.884</td>\n      <td>NaN</td>\n      <td>NaN</td>\n      <td>NaN</td>\n    </tr>\n    <tr>\n      <th>1879</th>\n      <td>CZ</td>\n      <td>2018</td>\n      <td>R5300</td>\n      <td>GWH</td>\n      <td>NaN</td>\n      <td>2607.205</td>\n      <td>NaN</td>\n      <td>NaN</td>\n      <td>NaN</td>\n    </tr>\n    <tr>\n      <th>1882</th>\n      <td>CZ</td>\n      <td>2018</td>\n      <td>RA100</td>\n      <td>GWH</td>\n      <td>NaN</td>\n      <td>2235.928</td>\n      <td>NaN</td>\n      <td>NaN</td>\n      <td>NaN</td>\n    </tr>\n    <tr>\n      <th>1883</th>\n      <td>CZ</td>\n      <td>2018</td>\n      <td>RA200</td>\n      <td>GWH</td>\n      <td>NaN</td>\n      <td>0.000</td>\n      <td>NaN</td>\n      <td>NaN</td>\n      <td>NaN</td>\n    </tr>\n    <tr>\n      <th>1884</th>\n      <td>CZ</td>\n      <td>2018</td>\n      <td>RA300</td>\n      <td>GWH</td>\n      <td>NaN</td>\n      <td>596.351</td>\n      <td>NaN</td>\n      <td>NaN</td>\n      <td>NaN</td>\n    </tr>\n    <tr>\n      <th>1885</th>\n      <td>CZ</td>\n      <td>2018</td>\n      <td>RA410</td>\n      <td>GWH</td>\n      <td>NaN</td>\n      <td>0.000</td>\n      <td>NaN</td>\n      <td>NaN</td>\n      <td>NaN</td>\n    </tr>\n    <tr>\n      <th>1886</th>\n      <td>CZ</td>\n      <td>2018</td>\n      <td>RA420</td>\n      <td>GWH</td>\n      <td>NaN</td>\n      <td>2358.881</td>\n      <td>NaN</td>\n      <td>NaN</td>\n      <td>NaN</td>\n    </tr>\n    <tr>\n      <th>1887</th>\n      <td>CZ</td>\n      <td>2018</td>\n      <td>RA500</td>\n      <td>GWH</td>\n      <td>NaN</td>\n      <td>0.000</td>\n      <td>NaN</td>\n      <td>NaN</td>\n      <td>NaN</td>\n    </tr>\n    <tr>\n      <th>1889</th>\n      <td>CZ</td>\n      <td>2018</td>\n      <td>W6210</td>\n      <td>GWH</td>\n      <td>NaN</td>\n      <td>100.189</td>\n      <td>NaN</td>\n      <td>NaN</td>\n      <td>NaN</td>\n    </tr>\n  </tbody>\n</table>\n</div>"
     },
     "metadata": {},
     "execution_count": 8
    }
   ],
   "source": [
    "# Czech republic\n",
    "renewables_codes = [\n",
    "    'RA100', 'RA200', 'RA300', 'RA410', 'RA420', 'RA500',\n",
    "    'R5110-5150_W6000RI', 'R5200', 'R5300', 'W6210',\n",
    "    ]\n",
    "res = el['siec'].str.fullmatch('|'.join(renewables_codes))\n",
    "cz = el['geo'].str.fullmatch('CZ') \n",
    "\n",
    "\n",
    "el[res & cz & (el['year'] == 2018)]"
   ]
  },
  {
   "cell_type": "code",
   "execution_count": 9,
   "metadata": {},
   "outputs": [
    {
     "output_type": "execute_result",
     "data": {
      "text/plain": [
       "     geo  year   siec unit  GEP_NPUMP_MIX    GEP_RED  GFC_ELC  NMLPRD_MIX  \\\n",
       "1881  CZ  2018  RA000  GWH            NaN  10019.438      NaN         NaN   \n",
       "\n",
       "      NMLPRD_PURE  \n",
       "1881          NaN  "
      ],
      "text/html": "<div>\n<style scoped>\n    .dataframe tbody tr th:only-of-type {\n        vertical-align: middle;\n    }\n\n    .dataframe tbody tr th {\n        vertical-align: top;\n    }\n\n    .dataframe thead th {\n        text-align: right;\n    }\n</style>\n<table border=\"1\" class=\"dataframe\">\n  <thead>\n    <tr style=\"text-align: right;\">\n      <th></th>\n      <th>geo</th>\n      <th>year</th>\n      <th>siec</th>\n      <th>unit</th>\n      <th>GEP_NPUMP_MIX</th>\n      <th>GEP_RED</th>\n      <th>GFC_ELC</th>\n      <th>NMLPRD_MIX</th>\n      <th>NMLPRD_PURE</th>\n    </tr>\n  </thead>\n  <tbody>\n    <tr>\n      <th>1881</th>\n      <td>CZ</td>\n      <td>2018</td>\n      <td>RA000</td>\n      <td>GWH</td>\n      <td>NaN</td>\n      <td>10019.438</td>\n      <td>NaN</td>\n      <td>NaN</td>\n      <td>NaN</td>\n    </tr>\n  </tbody>\n</table>\n</div>"
     },
     "metadata": {},
     "execution_count": 9
    }
   ],
   "source": [
    "el[(el['siec'] == 'RA000') & cz & (el['year'] == 2018)]"
   ]
  },
  {
   "cell_type": "code",
   "execution_count": 10,
   "metadata": {},
   "outputs": [
    {
     "output_type": "execute_result",
     "data": {
      "text/plain": [
       "10019.438"
      ]
     },
     "metadata": {},
     "execution_count": 10
    }
   ],
   "source": [
    "el[res & cz & (el['year'] == 2018)]['GEP_RED'].sum()"
   ]
  },
  {
   "cell_type": "code",
   "execution_count": 11,
   "metadata": {},
   "outputs": [
    {
     "output_type": "execute_result",
     "data": {
      "text/plain": [
       "1881    10019.438\n",
       "Name: GEP_RED, dtype: float64"
      ]
     },
     "metadata": {},
     "execution_count": 11
    }
   ],
   "source": [
    "el[(el['siec'] == 'RA000') & cz & (el['year'] == 2018)]['GEP_RED']"
   ]
  },
  {
   "cell_type": "code",
   "execution_count": 12,
   "metadata": {},
   "outputs": [],
   "source": [
    "# Test multiple countries\n",
    "\n",
    "def test_sector(df, country, renewables_codes, var_to_sum, gfc_var):\n",
    "    df = df.copy()\n",
    "    geo = df['geo'].str.fullmatch(f'{country}') \n",
    "    res = df['siec'].str.fullmatch('|'.join(renewables_codes))\n",
    "    df[res & geo & (el['year'] == 2018)]\n",
    "\n",
    "    fuels_sum = df.loc[res & geo & (df['year'] == 2018), var_to_sum].sum().sum()\n",
    "\n",
    "    gfc = df[(df['siec'] == 'RA000') & geo & (df['year'] == 2018)][gfc_var].values[0]\n",
    "\n",
    "    print(country, ':', fuels_sum, 'vs.', gfc)"
   ]
  },
  {
   "cell_type": "code",
   "execution_count": 13,
   "metadata": {},
   "outputs": [
    {
     "output_type": "stream",
     "name": "stdout",
     "text": [
      "CZ : 10019.438 vs. 10019.438\n",
      "DK : 22226.942000000003 vs. 22226.942000000003\n",
      "AT : 54032.681000000004 vs. 54032.682\n",
      "NL : 18516.356 vs. 18516.356\n",
      "SK : 6527.814 vs. 6527.815\n",
      "PL : 22837.542 vs. 22837.542\n",
      "DE : 223729.869 vs. 223729.86899999998\n",
      "UK : 107276.442 vs. 107276.442\n",
      "SE : 96744.281 vs. 96744.281\n",
      "EU27_2020 : 942737.7800000001 vs. 942737.781\n",
      "EU28 : 1050014.223 vs. 1050014.223\n"
     ]
    }
   ],
   "source": [
    "renewables_codes = [\n",
    "    'RA100', 'RA200', 'RA300', 'RA410', 'RA420', 'RA500', \n",
    "    'R5110-5150_W6000RI', 'R5200', 'R5300', 'W6210', \n",
    "    'R5300B', 'R5292SP',\n",
    "    ]\n",
    "\n",
    "countries = [\n",
    "    'CZ', 'DK', 'AT', 'NL', 'SK', 'PL',\n",
    "    'DE', 'UK', 'SE', 'EU27_2020', 'EU28',\n",
    "    ]\n",
    "\n",
    "for country in countries:\n",
    "    test_sector(el, country, renewables_codes, 'GEP_RED', 'GEP_RED' )"
   ]
  },
  {
   "source": [
    "This would support the idea I should count also Sustainable pure bioliquids (R5292SP) and Blended biogases (R5300B) in the electricity sector."
   ],
   "cell_type": "markdown",
   "metadata": {}
  },
  {
   "source": [
    "## Heating and cooling\n",
    "\n",
    "Confirm that GFC_HEAT_CL_E is a sum of FC_IND_OTH_E, GHP_RED and PPRD_RED for individual fuelv category. For bioenergy relevant just the first two."
   ],
   "cell_type": "markdown",
   "metadata": {}
  },
  {
   "cell_type": "code",
   "execution_count": 14,
   "metadata": {},
   "outputs": [],
   "source": [
    "hc_url = 'https://ec.europa.eu/eurostat/estat-navtree-portlet-prod/BulkDownloadListing?file=data/nrg_ind_urhcd.tsv.gz'\n",
    "\n",
    "# hc = pd.read_table('nrg_ind_urhcd.tsv', delimiter='[\\t,]+')\n",
    "hc = pd.read_table(hc_url, delimiter='[\\t,]+')\n",
    "\n",
    "hc.rename(columns={'geo\\\\time': 'geo'}, inplace=True)\n",
    "hc.rename(columns={str(year) + ' ': year for year in range(2004, 2019)}, inplace=True)\n",
    "hc.rename(columns={'2004': 2004}, inplace=True)\n",
    "\n",
    "for col in range(2004,2019):\n",
    "    hc[col] = pd.to_numeric(hc[col], errors='coerce')"
   ]
  },
  {
   "cell_type": "code",
   "execution_count": 15,
   "metadata": {},
   "outputs": [
    {
     "output_type": "execute_result",
     "data": {
      "text/plain": [
       "      geo  year                siec  unit  BIOG_G_ADJSHR  BIOG_G_SHR  \\\n",
       "0      AL  2004  R5110-5150_W6000RI  KTOE            NaN         NaN   \n",
       "1      AL  2004               R5160  KTOE            NaN         NaN   \n",
       "2      AL  2004               R5292  KTOE            NaN         NaN   \n",
       "3      AL  2004              R5292P  KTOE            NaN         NaN   \n",
       "4      AL  2004              R5292S  KTOE            NaN         NaN   \n",
       "...    ..   ...                 ...   ...            ...         ...   \n",
       "11995  XK  2018               RA200  KTOE            NaN         NaN   \n",
       "11996  XK  2018               RA410  KTOE            NaN         NaN   \n",
       "11997  XK  2018               RA600  KTOE            NaN         NaN   \n",
       "11998  XK  2018               TOTAL  KTOE            NaN         NaN   \n",
       "11999  XK  2018               W6210  KTOE            NaN         NaN   \n",
       "\n",
       "       BIOG_G_TRA  FC_IND_OTH_E  GFC_HEAT_CL_E  GHP_RED  PPRD_RED  \n",
       "0             NaN       233.018            NaN      0.0       NaN  \n",
       "1             NaN         0.000            NaN      NaN       NaN  \n",
       "2             NaN         0.000            NaN      NaN       NaN  \n",
       "3             NaN           NaN            NaN      0.0       NaN  \n",
       "4             NaN           NaN            NaN      NaN       NaN  \n",
       "...           ...           ...            ...      ...       ...  \n",
       "11995         NaN         0.000            NaN      0.0       NaN  \n",
       "11996         NaN         0.361            NaN      0.0       NaN  \n",
       "11997         NaN           NaN            NaN      NaN       0.0  \n",
       "11998         NaN           NaN        647.961      NaN       NaN  \n",
       "11999         NaN         0.000            NaN      0.0       NaN  \n",
       "\n",
       "[12000 rows x 11 columns]"
      ],
      "text/html": "<div>\n<style scoped>\n    .dataframe tbody tr th:only-of-type {\n        vertical-align: middle;\n    }\n\n    .dataframe tbody tr th {\n        vertical-align: top;\n    }\n\n    .dataframe thead th {\n        text-align: right;\n    }\n</style>\n<table border=\"1\" class=\"dataframe\">\n  <thead>\n    <tr style=\"text-align: right;\">\n      <th></th>\n      <th>geo</th>\n      <th>year</th>\n      <th>siec</th>\n      <th>unit</th>\n      <th>BIOG_G_ADJSHR</th>\n      <th>BIOG_G_SHR</th>\n      <th>BIOG_G_TRA</th>\n      <th>FC_IND_OTH_E</th>\n      <th>GFC_HEAT_CL_E</th>\n      <th>GHP_RED</th>\n      <th>PPRD_RED</th>\n    </tr>\n  </thead>\n  <tbody>\n    <tr>\n      <th>0</th>\n      <td>AL</td>\n      <td>2004</td>\n      <td>R5110-5150_W6000RI</td>\n      <td>KTOE</td>\n      <td>NaN</td>\n      <td>NaN</td>\n      <td>NaN</td>\n      <td>233.018</td>\n      <td>NaN</td>\n      <td>0.0</td>\n      <td>NaN</td>\n    </tr>\n    <tr>\n      <th>1</th>\n      <td>AL</td>\n      <td>2004</td>\n      <td>R5160</td>\n      <td>KTOE</td>\n      <td>NaN</td>\n      <td>NaN</td>\n      <td>NaN</td>\n      <td>0.000</td>\n      <td>NaN</td>\n      <td>NaN</td>\n      <td>NaN</td>\n    </tr>\n    <tr>\n      <th>2</th>\n      <td>AL</td>\n      <td>2004</td>\n      <td>R5292</td>\n      <td>KTOE</td>\n      <td>NaN</td>\n      <td>NaN</td>\n      <td>NaN</td>\n      <td>0.000</td>\n      <td>NaN</td>\n      <td>NaN</td>\n      <td>NaN</td>\n    </tr>\n    <tr>\n      <th>3</th>\n      <td>AL</td>\n      <td>2004</td>\n      <td>R5292P</td>\n      <td>KTOE</td>\n      <td>NaN</td>\n      <td>NaN</td>\n      <td>NaN</td>\n      <td>NaN</td>\n      <td>NaN</td>\n      <td>0.0</td>\n      <td>NaN</td>\n    </tr>\n    <tr>\n      <th>4</th>\n      <td>AL</td>\n      <td>2004</td>\n      <td>R5292S</td>\n      <td>KTOE</td>\n      <td>NaN</td>\n      <td>NaN</td>\n      <td>NaN</td>\n      <td>NaN</td>\n      <td>NaN</td>\n      <td>NaN</td>\n      <td>NaN</td>\n    </tr>\n    <tr>\n      <th>...</th>\n      <td>...</td>\n      <td>...</td>\n      <td>...</td>\n      <td>...</td>\n      <td>...</td>\n      <td>...</td>\n      <td>...</td>\n      <td>...</td>\n      <td>...</td>\n      <td>...</td>\n      <td>...</td>\n    </tr>\n    <tr>\n      <th>11995</th>\n      <td>XK</td>\n      <td>2018</td>\n      <td>RA200</td>\n      <td>KTOE</td>\n      <td>NaN</td>\n      <td>NaN</td>\n      <td>NaN</td>\n      <td>0.000</td>\n      <td>NaN</td>\n      <td>0.0</td>\n      <td>NaN</td>\n    </tr>\n    <tr>\n      <th>11996</th>\n      <td>XK</td>\n      <td>2018</td>\n      <td>RA410</td>\n      <td>KTOE</td>\n      <td>NaN</td>\n      <td>NaN</td>\n      <td>NaN</td>\n      <td>0.361</td>\n      <td>NaN</td>\n      <td>0.0</td>\n      <td>NaN</td>\n    </tr>\n    <tr>\n      <th>11997</th>\n      <td>XK</td>\n      <td>2018</td>\n      <td>RA600</td>\n      <td>KTOE</td>\n      <td>NaN</td>\n      <td>NaN</td>\n      <td>NaN</td>\n      <td>NaN</td>\n      <td>NaN</td>\n      <td>NaN</td>\n      <td>0.0</td>\n    </tr>\n    <tr>\n      <th>11998</th>\n      <td>XK</td>\n      <td>2018</td>\n      <td>TOTAL</td>\n      <td>KTOE</td>\n      <td>NaN</td>\n      <td>NaN</td>\n      <td>NaN</td>\n      <td>NaN</td>\n      <td>647.961</td>\n      <td>NaN</td>\n      <td>NaN</td>\n    </tr>\n    <tr>\n      <th>11999</th>\n      <td>XK</td>\n      <td>2018</td>\n      <td>W6210</td>\n      <td>KTOE</td>\n      <td>NaN</td>\n      <td>NaN</td>\n      <td>NaN</td>\n      <td>0.000</td>\n      <td>NaN</td>\n      <td>0.0</td>\n      <td>NaN</td>\n    </tr>\n  </tbody>\n</table>\n<p>12000 rows × 11 columns</p>\n</div>"
     },
     "metadata": {},
     "execution_count": 15
    }
   ],
   "source": [
    "hc = tidy_shares(hc, 'hc_tidy.csv')\n",
    "hc"
   ]
  },
  {
   "cell_type": "code",
   "execution_count": 16,
   "metadata": {},
   "outputs": [
    {
     "output_type": "execute_result",
     "data": {
      "text/plain": [
       "{'Primary solid biofuels': 'R5110-5150_W6000RI',\n",
       " 'Charcoal': 'R5160',\n",
       " 'Bioliquids': 'R5292',\n",
       " 'Pure bioliquids': 'R5292P',\n",
       " 'Sustainable bioliquids': 'R5292S',\n",
       " 'Sustainable blended bioliquids (only bio-part)': 'R5292SB',\n",
       " 'Sustainable pure bioliquids': 'R5292SP',\n",
       " 'Sustainable bioliquids from non-food sources': 'R5293S',\n",
       " 'Sustainable blended bioliquids (only bio-part) from non-food sources': 'R5293SB',\n",
       " 'Sustainable pure bioliquids from non-food sources': 'R5293SP',\n",
       " 'Biogases': 'R5300',\n",
       " 'Blended biogases': 'R5300B',\n",
       " 'Renewables and biofuels': 'RA000',\n",
       " 'Geothermal': 'RA200',\n",
       " 'Solar thermal': 'RA410',\n",
       " 'Ambient heat (heat pumps)': 'RA600',\n",
       " 'Total': 'TOTAL',\n",
       " 'Renewable municipal waste': 'W6210'}"
      ]
     },
     "metadata": {},
     "execution_count": 16
    }
   ],
   "source": [
    "# Unique fuels in the original table\n",
    "{fuels_dict[code]: code for code in hc['siec'].unique()}"
   ]
  },
  {
   "cell_type": "code",
   "execution_count": 17,
   "metadata": {},
   "outputs": [
    {
     "output_type": "execute_result",
     "data": {
      "text/plain": [
       "     geo  year                siec  unit  BIOG_G_ADJSHR  BIOG_G_SHR  \\\n",
       "2080  CZ  2018  R5110-5150_W6000RI  KTOE            NaN         NaN   \n",
       "2090  CZ  2018               R5300  KTOE            NaN         NaN   \n",
       "2095  CZ  2018               RA200  KTOE            NaN         NaN   \n",
       "2096  CZ  2018               RA410  KTOE            NaN         NaN   \n",
       "2097  CZ  2018               RA600  KTOE            NaN         NaN   \n",
       "2099  CZ  2018               W6210  KTOE            NaN         NaN   \n",
       "\n",
       "      BIOG_G_TRA  FC_IND_OTH_E  GFC_HEAT_CL_E  GHP_RED  PPRD_RED  \n",
       "2080         NaN      2323.972            NaN  161.939       NaN  \n",
       "2090         NaN       152.379            NaN   17.461       NaN  \n",
       "2095         NaN         0.000            NaN    0.000       NaN  \n",
       "2096         NaN        20.780            NaN    0.000       NaN  \n",
       "2097         NaN           NaN            NaN      NaN   172.798  \n",
       "2099         NaN        22.796            NaN   40.165       NaN  "
      ],
      "text/html": "<div>\n<style scoped>\n    .dataframe tbody tr th:only-of-type {\n        vertical-align: middle;\n    }\n\n    .dataframe tbody tr th {\n        vertical-align: top;\n    }\n\n    .dataframe thead th {\n        text-align: right;\n    }\n</style>\n<table border=\"1\" class=\"dataframe\">\n  <thead>\n    <tr style=\"text-align: right;\">\n      <th></th>\n      <th>geo</th>\n      <th>year</th>\n      <th>siec</th>\n      <th>unit</th>\n      <th>BIOG_G_ADJSHR</th>\n      <th>BIOG_G_SHR</th>\n      <th>BIOG_G_TRA</th>\n      <th>FC_IND_OTH_E</th>\n      <th>GFC_HEAT_CL_E</th>\n      <th>GHP_RED</th>\n      <th>PPRD_RED</th>\n    </tr>\n  </thead>\n  <tbody>\n    <tr>\n      <th>2080</th>\n      <td>CZ</td>\n      <td>2018</td>\n      <td>R5110-5150_W6000RI</td>\n      <td>KTOE</td>\n      <td>NaN</td>\n      <td>NaN</td>\n      <td>NaN</td>\n      <td>2323.972</td>\n      <td>NaN</td>\n      <td>161.939</td>\n      <td>NaN</td>\n    </tr>\n    <tr>\n      <th>2090</th>\n      <td>CZ</td>\n      <td>2018</td>\n      <td>R5300</td>\n      <td>KTOE</td>\n      <td>NaN</td>\n      <td>NaN</td>\n      <td>NaN</td>\n      <td>152.379</td>\n      <td>NaN</td>\n      <td>17.461</td>\n      <td>NaN</td>\n    </tr>\n    <tr>\n      <th>2095</th>\n      <td>CZ</td>\n      <td>2018</td>\n      <td>RA200</td>\n      <td>KTOE</td>\n      <td>NaN</td>\n      <td>NaN</td>\n      <td>NaN</td>\n      <td>0.000</td>\n      <td>NaN</td>\n      <td>0.000</td>\n      <td>NaN</td>\n    </tr>\n    <tr>\n      <th>2096</th>\n      <td>CZ</td>\n      <td>2018</td>\n      <td>RA410</td>\n      <td>KTOE</td>\n      <td>NaN</td>\n      <td>NaN</td>\n      <td>NaN</td>\n      <td>20.780</td>\n      <td>NaN</td>\n      <td>0.000</td>\n      <td>NaN</td>\n    </tr>\n    <tr>\n      <th>2097</th>\n      <td>CZ</td>\n      <td>2018</td>\n      <td>RA600</td>\n      <td>KTOE</td>\n      <td>NaN</td>\n      <td>NaN</td>\n      <td>NaN</td>\n      <td>NaN</td>\n      <td>NaN</td>\n      <td>NaN</td>\n      <td>172.798</td>\n    </tr>\n    <tr>\n      <th>2099</th>\n      <td>CZ</td>\n      <td>2018</td>\n      <td>W6210</td>\n      <td>KTOE</td>\n      <td>NaN</td>\n      <td>NaN</td>\n      <td>NaN</td>\n      <td>22.796</td>\n      <td>NaN</td>\n      <td>40.165</td>\n      <td>NaN</td>\n    </tr>\n  </tbody>\n</table>\n</div>"
     },
     "metadata": {},
     "execution_count": 17
    }
   ],
   "source": [
    "# Added RA600\n",
    "renewables_codes = [\n",
    "    'RA100', 'RA200', 'RA300', 'RA410', 'RA420', 'RA500', \n",
    "    'RA600', 'R5110-5150_W6000RI', 'R5200', 'R5300', 'W6210',\n",
    "    ]\n",
    "\n",
    "res = hc['siec'].str.fullmatch('|'.join(renewables_codes))\n",
    "cz = hc['geo'].str.fullmatch('CZ') \n",
    "\n",
    "\n",
    "hc.loc[res & cz & (hc['year'] == 2018), :]"
   ]
  },
  {
   "cell_type": "code",
   "execution_count": 18,
   "metadata": {},
   "outputs": [
    {
     "output_type": "execute_result",
     "data": {
      "text/plain": [
       "     geo  year   siec  unit  BIOG_G_ADJSHR  BIOG_G_SHR  BIOG_G_TRA  \\\n",
       "2094  CZ  2018  RA000  KTOE            NaN         NaN         NaN   \n",
       "\n",
       "      FC_IND_OTH_E  GFC_HEAT_CL_E  GHP_RED  PPRD_RED  \n",
       "2094           NaN       2912.289      NaN       NaN  "
      ],
      "text/html": "<div>\n<style scoped>\n    .dataframe tbody tr th:only-of-type {\n        vertical-align: middle;\n    }\n\n    .dataframe tbody tr th {\n        vertical-align: top;\n    }\n\n    .dataframe thead th {\n        text-align: right;\n    }\n</style>\n<table border=\"1\" class=\"dataframe\">\n  <thead>\n    <tr style=\"text-align: right;\">\n      <th></th>\n      <th>geo</th>\n      <th>year</th>\n      <th>siec</th>\n      <th>unit</th>\n      <th>BIOG_G_ADJSHR</th>\n      <th>BIOG_G_SHR</th>\n      <th>BIOG_G_TRA</th>\n      <th>FC_IND_OTH_E</th>\n      <th>GFC_HEAT_CL_E</th>\n      <th>GHP_RED</th>\n      <th>PPRD_RED</th>\n    </tr>\n  </thead>\n  <tbody>\n    <tr>\n      <th>2094</th>\n      <td>CZ</td>\n      <td>2018</td>\n      <td>RA000</td>\n      <td>KTOE</td>\n      <td>NaN</td>\n      <td>NaN</td>\n      <td>NaN</td>\n      <td>NaN</td>\n      <td>2912.289</td>\n      <td>NaN</td>\n      <td>NaN</td>\n    </tr>\n  </tbody>\n</table>\n</div>"
     },
     "metadata": {},
     "execution_count": 18
    }
   ],
   "source": [
    "hc.loc[(hc['siec'] == 'RA000') & cz & (hc['year'] == 2018), :]"
   ]
  },
  {
   "cell_type": "code",
   "execution_count": 19,
   "metadata": {},
   "outputs": [
    {
     "output_type": "execute_result",
     "data": {
      "text/plain": [
       "2912.29"
      ]
     },
     "metadata": {},
     "execution_count": 19
    }
   ],
   "source": [
    "hc.loc[\n",
    "    res & cz & (hc['year'] == 2018),\n",
    "    ['FC_IND_OTH_E', 'GHP_RED', 'PPRD_RED']\n",
    "    ].sum().sum()"
   ]
  },
  {
   "cell_type": "code",
   "execution_count": 20,
   "metadata": {},
   "outputs": [
    {
     "output_type": "stream",
     "name": "stdout",
     "text": [
      "CZ : 2912.29 vs. 2912.289\n",
      "DK : 3564.1730000000002 vs. 3566.663\n",
      "AT : 4547.403 vs. 4547.404\n",
      "NL : 1629.368 vs. 1629.366\n",
      "SK : 642.5319999999999 vs. 642.533\n",
      "PL : 5586.959 vs. 5586.96\n",
      "DE : 14874.232 vs. 14877.288999999999\n",
      "UK : 4198.0160000000005 vs. 4198.016\n",
      "SE : 9634.304 vs. 9634.305\n",
      "EU27_2020 : 98603.025 vs. 98658.948\n",
      "EU28 : 102801.04100000003 vs. 102856.964\n"
     ]
    }
   ],
   "source": [
    "# Test multiple countries\n",
    "renewables_codes = [\n",
    "    'RA100', 'RA200', 'RA300', 'RA410', 'RA420', 'RA500',\n",
    "    'RA600', 'R5110-5150_W6000RI', 'R5200', 'R5300', 'W6210',\n",
    "    'R5300B', 'R5292S', 'R5160',\n",
    "    ]\n",
    "\n",
    "for country in countries:\n",
    "    test_sector(\n",
    "        hc,\n",
    "        country,\n",
    "        renewables_codes,\n",
    "        ['FC_IND_OTH_E', 'GHP_RED', 'PPRD_RED'],\n",
    "        'GFC_HEAT_CL_E'\n",
    "        )"
   ]
  },
  {
   "source": [
    "This would support the idea to add also Blended biogases (R5300B), Sustainable bioliquids (R5292S) – which is different from electricity sector where it was sustainable and pure – and charcoal (R5160). In the EU and DE aggregation still small difference (hopefully due to rounding errors)."
   ],
   "cell_type": "markdown",
   "metadata": {}
  },
  {
   "source": [
    "# Transport\n",
    "\n",
    "Confirm that GFC_TRA_E_NMULTI is a sum of FC_TRA_OTH_E_RED, FC_TRA_RAIL_E_RED, FC_TRA_ROAD_E_RED for fuel category."
   ],
   "cell_type": "markdown",
   "metadata": {}
  },
  {
   "cell_type": "code",
   "execution_count": 21,
   "metadata": {},
   "outputs": [],
   "source": [
    "tr_url = 'https://ec.europa.eu/eurostat/estat-navtree-portlet-prod/BulkDownloadListing?file=data/nrg_ind_urtd.tsv.gz'\n",
    "\n",
    "tr = pd.read_table(tr_url, delimiter='[\\t,]+')\n",
    "\n",
    "tr.rename(columns={'geo\\\\time': 'geo'}, inplace=True)\n",
    "tr.rename(columns={str(year) + ' ': year for year in range(2004, 2019)}, inplace=True)\n",
    "tr.rename(columns={'2004': 2004}, inplace=True)\n",
    "\n",
    "for col in range(2004,2019):\n",
    "    tr[col] = pd.to_numeric(tr[col], errors='coerce')"
   ]
  },
  {
   "cell_type": "code",
   "execution_count": 22,
   "metadata": {},
   "outputs": [
    {
     "output_type": "execute_result",
     "data": {
      "text/plain": [
       "      geo  year   siec  unit  BIOFCON_LIM_TRA  BIOF_FS_SHR  FC_TRA_E_RED  \\\n",
       "0      AL  2004  E7000  KTOE              NaN          NaN           NaN   \n",
       "1      AL  2004  E7100  KTOE              NaN          NaN           NaN   \n",
       "2      AL  2004  E7200  KTOE              NaN          NaN           NaN   \n",
       "3      AL  2004  R5200  KTOE              NaN          NaN           NaN   \n",
       "4      AL  2004  R5200    PC              NaN          NaN           NaN   \n",
       "...    ..   ...    ...   ...              ...          ...           ...   \n",
       "23995  XK  2018  R5300  KTOE              NaN          NaN           NaN   \n",
       "23996  XK  2018  RA000  KTOE              NaN          NaN           NaN   \n",
       "23997  XK  2018   RHYD  KTOE              NaN          NaN           0.0   \n",
       "23998  XK  2018  RSYNF  KTOE              NaN          NaN           0.0   \n",
       "23999  XK  2018  TOTAL  KTOE              NaN          NaN           NaN   \n",
       "\n",
       "       FC_TRA_OTH_E_RED  FC_TRA_RAIL_E_RED  FC_TRA_ROAD_E_RED  \\\n",
       "0                   NaN                NaN                NaN   \n",
       "1                 0.722                0.0                0.0   \n",
       "2                 0.310                0.0                0.0   \n",
       "3                 0.000                0.0                0.0   \n",
       "4                   NaN                NaN                NaN   \n",
       "...                 ...                ...                ...   \n",
       "23995             0.000                0.0                0.0   \n",
       "23996               NaN                NaN                NaN   \n",
       "23997               NaN                NaN                NaN   \n",
       "23998               NaN                NaN                NaN   \n",
       "23999               NaN                NaN                NaN   \n",
       "\n",
       "       GFC_TRA_E_MULTI  GFC_TRA_E_NMULTI  LIM_TT  NRG_MNBRFT_E  ST_MS_TRA  \n",
       "0                  NaN               NaN     NaN           0.0        NaN  \n",
       "1                  NaN               NaN     NaN           NaN        NaN  \n",
       "2                  NaN               NaN     NaN           NaN        NaN  \n",
       "3                  NaN               NaN     NaN           NaN        NaN  \n",
       "4                  NaN               NaN     NaN           NaN        NaN  \n",
       "...                ...               ...     ...           ...        ...  \n",
       "23995              NaN               NaN     NaN           NaN        NaN  \n",
       "23996            0.000             0.000     NaN           NaN        0.0  \n",
       "23997              NaN               NaN     NaN           NaN        NaN  \n",
       "23998              NaN               NaN     NaN           NaN        NaN  \n",
       "23999          425.934           425.934     NaN           NaN        NaN  \n",
       "\n",
       "[24000 rows x 15 columns]"
      ],
      "text/html": "<div>\n<style scoped>\n    .dataframe tbody tr th:only-of-type {\n        vertical-align: middle;\n    }\n\n    .dataframe tbody tr th {\n        vertical-align: top;\n    }\n\n    .dataframe thead th {\n        text-align: right;\n    }\n</style>\n<table border=\"1\" class=\"dataframe\">\n  <thead>\n    <tr style=\"text-align: right;\">\n      <th></th>\n      <th>geo</th>\n      <th>year</th>\n      <th>siec</th>\n      <th>unit</th>\n      <th>BIOFCON_LIM_TRA</th>\n      <th>BIOF_FS_SHR</th>\n      <th>FC_TRA_E_RED</th>\n      <th>FC_TRA_OTH_E_RED</th>\n      <th>FC_TRA_RAIL_E_RED</th>\n      <th>FC_TRA_ROAD_E_RED</th>\n      <th>GFC_TRA_E_MULTI</th>\n      <th>GFC_TRA_E_NMULTI</th>\n      <th>LIM_TT</th>\n      <th>NRG_MNBRFT_E</th>\n      <th>ST_MS_TRA</th>\n    </tr>\n  </thead>\n  <tbody>\n    <tr>\n      <th>0</th>\n      <td>AL</td>\n      <td>2004</td>\n      <td>E7000</td>\n      <td>KTOE</td>\n      <td>NaN</td>\n      <td>NaN</td>\n      <td>NaN</td>\n      <td>NaN</td>\n      <td>NaN</td>\n      <td>NaN</td>\n      <td>NaN</td>\n      <td>NaN</td>\n      <td>NaN</td>\n      <td>0.0</td>\n      <td>NaN</td>\n    </tr>\n    <tr>\n      <th>1</th>\n      <td>AL</td>\n      <td>2004</td>\n      <td>E7100</td>\n      <td>KTOE</td>\n      <td>NaN</td>\n      <td>NaN</td>\n      <td>NaN</td>\n      <td>0.722</td>\n      <td>0.0</td>\n      <td>0.0</td>\n      <td>NaN</td>\n      <td>NaN</td>\n      <td>NaN</td>\n      <td>NaN</td>\n      <td>NaN</td>\n    </tr>\n    <tr>\n      <th>2</th>\n      <td>AL</td>\n      <td>2004</td>\n      <td>E7200</td>\n      <td>KTOE</td>\n      <td>NaN</td>\n      <td>NaN</td>\n      <td>NaN</td>\n      <td>0.310</td>\n      <td>0.0</td>\n      <td>0.0</td>\n      <td>NaN</td>\n      <td>NaN</td>\n      <td>NaN</td>\n      <td>NaN</td>\n      <td>NaN</td>\n    </tr>\n    <tr>\n      <th>3</th>\n      <td>AL</td>\n      <td>2004</td>\n      <td>R5200</td>\n      <td>KTOE</td>\n      <td>NaN</td>\n      <td>NaN</td>\n      <td>NaN</td>\n      <td>0.000</td>\n      <td>0.0</td>\n      <td>0.0</td>\n      <td>NaN</td>\n      <td>NaN</td>\n      <td>NaN</td>\n      <td>NaN</td>\n      <td>NaN</td>\n    </tr>\n    <tr>\n      <th>4</th>\n      <td>AL</td>\n      <td>2004</td>\n      <td>R5200</td>\n      <td>PC</td>\n      <td>NaN</td>\n      <td>NaN</td>\n      <td>NaN</td>\n      <td>NaN</td>\n      <td>NaN</td>\n      <td>NaN</td>\n      <td>NaN</td>\n      <td>NaN</td>\n      <td>NaN</td>\n      <td>NaN</td>\n      <td>NaN</td>\n    </tr>\n    <tr>\n      <th>...</th>\n      <td>...</td>\n      <td>...</td>\n      <td>...</td>\n      <td>...</td>\n      <td>...</td>\n      <td>...</td>\n      <td>...</td>\n      <td>...</td>\n      <td>...</td>\n      <td>...</td>\n      <td>...</td>\n      <td>...</td>\n      <td>...</td>\n      <td>...</td>\n      <td>...</td>\n    </tr>\n    <tr>\n      <th>23995</th>\n      <td>XK</td>\n      <td>2018</td>\n      <td>R5300</td>\n      <td>KTOE</td>\n      <td>NaN</td>\n      <td>NaN</td>\n      <td>NaN</td>\n      <td>0.000</td>\n      <td>0.0</td>\n      <td>0.0</td>\n      <td>NaN</td>\n      <td>NaN</td>\n      <td>NaN</td>\n      <td>NaN</td>\n      <td>NaN</td>\n    </tr>\n    <tr>\n      <th>23996</th>\n      <td>XK</td>\n      <td>2018</td>\n      <td>RA000</td>\n      <td>KTOE</td>\n      <td>NaN</td>\n      <td>NaN</td>\n      <td>NaN</td>\n      <td>NaN</td>\n      <td>NaN</td>\n      <td>NaN</td>\n      <td>0.000</td>\n      <td>0.000</td>\n      <td>NaN</td>\n      <td>NaN</td>\n      <td>0.0</td>\n    </tr>\n    <tr>\n      <th>23997</th>\n      <td>XK</td>\n      <td>2018</td>\n      <td>RHYD</td>\n      <td>KTOE</td>\n      <td>NaN</td>\n      <td>NaN</td>\n      <td>0.0</td>\n      <td>NaN</td>\n      <td>NaN</td>\n      <td>NaN</td>\n      <td>NaN</td>\n      <td>NaN</td>\n      <td>NaN</td>\n      <td>NaN</td>\n      <td>NaN</td>\n    </tr>\n    <tr>\n      <th>23998</th>\n      <td>XK</td>\n      <td>2018</td>\n      <td>RSYNF</td>\n      <td>KTOE</td>\n      <td>NaN</td>\n      <td>NaN</td>\n      <td>0.0</td>\n      <td>NaN</td>\n      <td>NaN</td>\n      <td>NaN</td>\n      <td>NaN</td>\n      <td>NaN</td>\n      <td>NaN</td>\n      <td>NaN</td>\n      <td>NaN</td>\n    </tr>\n    <tr>\n      <th>23999</th>\n      <td>XK</td>\n      <td>2018</td>\n      <td>TOTAL</td>\n      <td>KTOE</td>\n      <td>NaN</td>\n      <td>NaN</td>\n      <td>NaN</td>\n      <td>NaN</td>\n      <td>NaN</td>\n      <td>NaN</td>\n      <td>425.934</td>\n      <td>425.934</td>\n      <td>NaN</td>\n      <td>NaN</td>\n      <td>NaN</td>\n    </tr>\n  </tbody>\n</table>\n<p>24000 rows × 15 columns</p>\n</div>"
     },
     "metadata": {},
     "execution_count": 22
    }
   ],
   "source": [
    "# Tidy it\n",
    "tr = tidy_shares(tr, 'tr_tidy.csv')\n",
    "tr"
   ]
  },
  {
   "cell_type": "code",
   "execution_count": 23,
   "metadata": {},
   "outputs": [
    {
     "output_type": "execute_result",
     "data": {
      "text/plain": [
       "{'Electricity': 'E7000',\n",
       " 'Electricity - renewable': 'E7100',\n",
       " 'Electricity - non-renewable': 'E7200',\n",
       " 'Liquid biofuels': 'R5200',\n",
       " 'Sustainable biofuels': 'R5250S',\n",
       " 'Sustainable biofuels Annex IX': 'R5251S',\n",
       " 'Sustainable biofuels Annex IX, Part A': 'R5252S',\n",
       " 'Sustainable biofuels Annex IX, Part A (a) - from algae': 'R5253S',\n",
       " 'Sustainable biofuels Annex IX, Part A (b) - from biomass in mixed municipal waste': 'R5254S',\n",
       " 'Sustainable biofuels Annex IX, Part A (c) - from biowaste': 'R5255S',\n",
       " 'Sustainable biofuels Annex IX, Part A (d) - from biomass in industrial waste': 'R5256S',\n",
       " 'Sustainable biofuels Annex IX, Part A (e) - from straw': 'R5257S',\n",
       " 'Sustainable biofuels Annex IX, Part A (f) - from animal manure and sewage sludge': 'R5258S',\n",
       " 'Sustainable biofuels Annex IX, Part A (g) - from palm oil effluent and empty palm fruit bunches': 'R5259S',\n",
       " 'Sustainable biofuels Annex IX, Part A (h) - from tall oil pitch': 'R5260S',\n",
       " 'Sustainable biofuels Annex IX, Part A (i) - from crude glycerine': 'R5261S',\n",
       " 'Sustainable biofuels Annex IX, Part A (j) - from bagasse': 'R5262S',\n",
       " 'Sustainable biofuels Annex IX, Part A (k) - from grape marcs and wine lees': 'R5263S',\n",
       " 'Sustainable biofuels Annex IX, Part A (l) - from nut shells': 'R5264S',\n",
       " 'Sustainable biofuels Annex IX, Part A (m) - from husks': 'R5265S',\n",
       " 'Sustainable biofuels Annex IX, Part A (n) - from cobs cleaned of kernels of corn': 'R5266S',\n",
       " 'Sustainable biofuels Annex IX, Part A (o) - from biomass fraction of wastes and residues from forestry and forest-based industries': 'R5267S',\n",
       " 'Sustainable biofuels Annex IX, Part A (p) - from other non-food cellulosic material - article 2 second paragraph point (s)': 'R5268S',\n",
       " 'Sustainable biofuels Annex IX, Part A (q) - from other ligno-cellulosic material - article 2 second paragraph point (r) except saw logs and veneer logs': 'R5269S',\n",
       " 'Sustainable biofuels Annex IX, Part A (r) - from renewable liquid and gaseous transport fuels of non-biological origin': 'R5270S',\n",
       " 'Sustainable biofuels Annex IX, Part A (s) - from carbon capture and utilisation for transport purposes, if the energy source is renewable - article 2 second paragraph point (a)': 'R5271S',\n",
       " 'Sustainable biofuels Annex IX, Part A (t) - from bacteria, if the energy source is renewable - article 2 second paragraph point (a)': 'R5272S',\n",
       " 'Sustainable biofuels Annex IX, Part B': 'R5273S',\n",
       " 'Sustainable biofuels Annex IX, Part B (a) - from used cooking oil': 'R5274S',\n",
       " 'Sustainable biofuels Annex IX, Part B (b) - from animal fats classified as categories 1 and 2 (Regulation (EC) No 1069/2009)': 'R5275S',\n",
       " 'Sustainable biofuels 3(4)d first paragraph - from cereal and other starch-rich crops, sugars and oil crops and from crops grown as main crops primarily for energy purposes on agricultural land': 'R5276S',\n",
       " 'Sustainable biofuels 3(4)d third paragraph, subsection (i) and (ii)': 'R5277S',\n",
       " 'Sustainable biofuels - other': 'R5278S',\n",
       " 'Grandfathered biofuels': 'R5279S',\n",
       " 'Biogases': 'R5300',\n",
       " 'Renewables and biofuels': 'RA000',\n",
       " 'Hydrogen of renewable origin': 'RHYD',\n",
       " 'Synthetic fuels of renewable origin': 'RSYNF',\n",
       " 'Total': 'TOTAL'}"
      ]
     },
     "metadata": {},
     "execution_count": 23
    }
   ],
   "source": [
    "# Unique fuels in the original table\n",
    "{fuels_dict[code]: code for code in tr['siec'].unique()}"
   ]
  },
  {
   "cell_type": "code",
   "execution_count": 24,
   "metadata": {},
   "outputs": [],
   "source": [
    "# Added RHYD, RSYNF, E7100\n",
    "renewables_codes = [\n",
    "    'RA100', 'RA200', 'RA300', 'RA410', 'RA420', 'RA500',\n",
    "    'RA600', 'R5110-5150_W6000RI', 'R5200', 'R5300', 'W6210',\n",
    "    'RHYD', 'RSYNF', 'E7100',\n",
    "    ]"
   ]
  },
  {
   "cell_type": "code",
   "execution_count": 25,
   "metadata": {},
   "outputs": [
    {
     "output_type": "execute_result",
     "data": {
      "text/plain": [
       "     geo  year   siec  unit  BIOFCON_LIM_TRA  BIOF_FS_SHR  FC_TRA_E_RED  \\\n",
       "4161  CZ  2018  E7100  KTOE              NaN          NaN           NaN   \n",
       "4163  CZ  2018  R5200  KTOE          308.708          NaN           NaN   \n",
       "4164  CZ  2018  R5200    PC              NaN        4.767           NaN   \n",
       "4195  CZ  2018  R5300  KTOE              NaN          NaN           NaN   \n",
       "4197  CZ  2018   RHYD  KTOE              NaN          NaN           0.0   \n",
       "4198  CZ  2018  RSYNF  KTOE              NaN          NaN           0.0   \n",
       "\n",
       "      FC_TRA_OTH_E_RED  FC_TRA_RAIL_E_RED  FC_TRA_ROAD_E_RED  GFC_TRA_E_MULTI  \\\n",
       "4161              1.52             42.205              1.760              NaN   \n",
       "4163              0.00              0.000            308.708              NaN   \n",
       "4164               NaN                NaN                NaN              NaN   \n",
       "4195              0.00              0.000              0.000              NaN   \n",
       "4197               NaN                NaN                NaN              NaN   \n",
       "4198               NaN                NaN                NaN              NaN   \n",
       "\n",
       "      GFC_TRA_E_NMULTI   LIM_TT  NRG_MNBRFT_E  ST_MS_TRA  \n",
       "4161               NaN      NaN           NaN        NaN  \n",
       "4163               NaN  453.288           NaN        NaN  \n",
       "4164               NaN      NaN           NaN        NaN  \n",
       "4195               NaN      NaN           NaN        NaN  \n",
       "4197               NaN      NaN           NaN        NaN  \n",
       "4198               NaN      NaN           NaN        NaN  "
      ],
      "text/html": "<div>\n<style scoped>\n    .dataframe tbody tr th:only-of-type {\n        vertical-align: middle;\n    }\n\n    .dataframe tbody tr th {\n        vertical-align: top;\n    }\n\n    .dataframe thead th {\n        text-align: right;\n    }\n</style>\n<table border=\"1\" class=\"dataframe\">\n  <thead>\n    <tr style=\"text-align: right;\">\n      <th></th>\n      <th>geo</th>\n      <th>year</th>\n      <th>siec</th>\n      <th>unit</th>\n      <th>BIOFCON_LIM_TRA</th>\n      <th>BIOF_FS_SHR</th>\n      <th>FC_TRA_E_RED</th>\n      <th>FC_TRA_OTH_E_RED</th>\n      <th>FC_TRA_RAIL_E_RED</th>\n      <th>FC_TRA_ROAD_E_RED</th>\n      <th>GFC_TRA_E_MULTI</th>\n      <th>GFC_TRA_E_NMULTI</th>\n      <th>LIM_TT</th>\n      <th>NRG_MNBRFT_E</th>\n      <th>ST_MS_TRA</th>\n    </tr>\n  </thead>\n  <tbody>\n    <tr>\n      <th>4161</th>\n      <td>CZ</td>\n      <td>2018</td>\n      <td>E7100</td>\n      <td>KTOE</td>\n      <td>NaN</td>\n      <td>NaN</td>\n      <td>NaN</td>\n      <td>1.52</td>\n      <td>42.205</td>\n      <td>1.760</td>\n      <td>NaN</td>\n      <td>NaN</td>\n      <td>NaN</td>\n      <td>NaN</td>\n      <td>NaN</td>\n    </tr>\n    <tr>\n      <th>4163</th>\n      <td>CZ</td>\n      <td>2018</td>\n      <td>R5200</td>\n      <td>KTOE</td>\n      <td>308.708</td>\n      <td>NaN</td>\n      <td>NaN</td>\n      <td>0.00</td>\n      <td>0.000</td>\n      <td>308.708</td>\n      <td>NaN</td>\n      <td>NaN</td>\n      <td>453.288</td>\n      <td>NaN</td>\n      <td>NaN</td>\n    </tr>\n    <tr>\n      <th>4164</th>\n      <td>CZ</td>\n      <td>2018</td>\n      <td>R5200</td>\n      <td>PC</td>\n      <td>NaN</td>\n      <td>4.767</td>\n      <td>NaN</td>\n      <td>NaN</td>\n      <td>NaN</td>\n      <td>NaN</td>\n      <td>NaN</td>\n      <td>NaN</td>\n      <td>NaN</td>\n      <td>NaN</td>\n      <td>NaN</td>\n    </tr>\n    <tr>\n      <th>4195</th>\n      <td>CZ</td>\n      <td>2018</td>\n      <td>R5300</td>\n      <td>KTOE</td>\n      <td>NaN</td>\n      <td>NaN</td>\n      <td>NaN</td>\n      <td>0.00</td>\n      <td>0.000</td>\n      <td>0.000</td>\n      <td>NaN</td>\n      <td>NaN</td>\n      <td>NaN</td>\n      <td>NaN</td>\n      <td>NaN</td>\n    </tr>\n    <tr>\n      <th>4197</th>\n      <td>CZ</td>\n      <td>2018</td>\n      <td>RHYD</td>\n      <td>KTOE</td>\n      <td>NaN</td>\n      <td>NaN</td>\n      <td>0.0</td>\n      <td>NaN</td>\n      <td>NaN</td>\n      <td>NaN</td>\n      <td>NaN</td>\n      <td>NaN</td>\n      <td>NaN</td>\n      <td>NaN</td>\n      <td>NaN</td>\n    </tr>\n    <tr>\n      <th>4198</th>\n      <td>CZ</td>\n      <td>2018</td>\n      <td>RSYNF</td>\n      <td>KTOE</td>\n      <td>NaN</td>\n      <td>NaN</td>\n      <td>0.0</td>\n      <td>NaN</td>\n      <td>NaN</td>\n      <td>NaN</td>\n      <td>NaN</td>\n      <td>NaN</td>\n      <td>NaN</td>\n      <td>NaN</td>\n      <td>NaN</td>\n    </tr>\n  </tbody>\n</table>\n</div>"
     },
     "metadata": {},
     "execution_count": 25
    }
   ],
   "source": [
    "res = tr['siec'].str.fullmatch('|'.join(renewables_codes))\n",
    "cz = tr['geo'].str.fullmatch('CZ') \n",
    "\n",
    "\n",
    "tr.loc[res & cz & (tr['year'] == 2018), :]"
   ]
  },
  {
   "cell_type": "code",
   "execution_count": 26,
   "metadata": {},
   "outputs": [
    {
     "output_type": "execute_result",
     "data": {
      "text/plain": [
       "     geo  year   siec  unit  BIOFCON_LIM_TRA  BIOF_FS_SHR  FC_TRA_E_RED  \\\n",
       "4196  CZ  2018  RA000  KTOE              NaN          NaN           NaN   \n",
       "\n",
       "      FC_TRA_OTH_E_RED  FC_TRA_RAIL_E_RED  FC_TRA_ROAD_E_RED  GFC_TRA_E_MULTI  \\\n",
       "4196               NaN                NaN                NaN          424.543   \n",
       "\n",
       "      GFC_TRA_E_NMULTI  LIM_TT  NRG_MNBRFT_E  ST_MS_TRA  \n",
       "4196           354.194     NaN           NaN        0.0  "
      ],
      "text/html": "<div>\n<style scoped>\n    .dataframe tbody tr th:only-of-type {\n        vertical-align: middle;\n    }\n\n    .dataframe tbody tr th {\n        vertical-align: top;\n    }\n\n    .dataframe thead th {\n        text-align: right;\n    }\n</style>\n<table border=\"1\" class=\"dataframe\">\n  <thead>\n    <tr style=\"text-align: right;\">\n      <th></th>\n      <th>geo</th>\n      <th>year</th>\n      <th>siec</th>\n      <th>unit</th>\n      <th>BIOFCON_LIM_TRA</th>\n      <th>BIOF_FS_SHR</th>\n      <th>FC_TRA_E_RED</th>\n      <th>FC_TRA_OTH_E_RED</th>\n      <th>FC_TRA_RAIL_E_RED</th>\n      <th>FC_TRA_ROAD_E_RED</th>\n      <th>GFC_TRA_E_MULTI</th>\n      <th>GFC_TRA_E_NMULTI</th>\n      <th>LIM_TT</th>\n      <th>NRG_MNBRFT_E</th>\n      <th>ST_MS_TRA</th>\n    </tr>\n  </thead>\n  <tbody>\n    <tr>\n      <th>4196</th>\n      <td>CZ</td>\n      <td>2018</td>\n      <td>RA000</td>\n      <td>KTOE</td>\n      <td>NaN</td>\n      <td>NaN</td>\n      <td>NaN</td>\n      <td>NaN</td>\n      <td>NaN</td>\n      <td>NaN</td>\n      <td>424.543</td>\n      <td>354.194</td>\n      <td>NaN</td>\n      <td>NaN</td>\n      <td>0.0</td>\n    </tr>\n  </tbody>\n</table>\n</div>"
     },
     "metadata": {},
     "execution_count": 26
    }
   ],
   "source": [
    "tr.loc[(tr['siec'] == 'RA000') & cz & (tr['year'] == 2018), :]"
   ]
  },
  {
   "cell_type": "code",
   "execution_count": 27,
   "metadata": {},
   "outputs": [
    {
     "output_type": "execute_result",
     "data": {
      "text/plain": [
       "      FC_TRA_OTH_E_RED  FC_TRA_RAIL_E_RED  FC_TRA_ROAD_E_RED\n",
       "4161              1.52             42.205              1.760\n",
       "4163              0.00              0.000            308.708\n",
       "4164               NaN                NaN                NaN\n",
       "4195              0.00              0.000              0.000\n",
       "4197               NaN                NaN                NaN\n",
       "4198               NaN                NaN                NaN"
      ],
      "text/html": "<div>\n<style scoped>\n    .dataframe tbody tr th:only-of-type {\n        vertical-align: middle;\n    }\n\n    .dataframe tbody tr th {\n        vertical-align: top;\n    }\n\n    .dataframe thead th {\n        text-align: right;\n    }\n</style>\n<table border=\"1\" class=\"dataframe\">\n  <thead>\n    <tr style=\"text-align: right;\">\n      <th></th>\n      <th>FC_TRA_OTH_E_RED</th>\n      <th>FC_TRA_RAIL_E_RED</th>\n      <th>FC_TRA_ROAD_E_RED</th>\n    </tr>\n  </thead>\n  <tbody>\n    <tr>\n      <th>4161</th>\n      <td>1.52</td>\n      <td>42.205</td>\n      <td>1.760</td>\n    </tr>\n    <tr>\n      <th>4163</th>\n      <td>0.00</td>\n      <td>0.000</td>\n      <td>308.708</td>\n    </tr>\n    <tr>\n      <th>4164</th>\n      <td>NaN</td>\n      <td>NaN</td>\n      <td>NaN</td>\n    </tr>\n    <tr>\n      <th>4195</th>\n      <td>0.00</td>\n      <td>0.000</td>\n      <td>0.000</td>\n    </tr>\n    <tr>\n      <th>4197</th>\n      <td>NaN</td>\n      <td>NaN</td>\n      <td>NaN</td>\n    </tr>\n    <tr>\n      <th>4198</th>\n      <td>NaN</td>\n      <td>NaN</td>\n      <td>NaN</td>\n    </tr>\n  </tbody>\n</table>\n</div>"
     },
     "metadata": {},
     "execution_count": 27
    }
   ],
   "source": [
    "tr.loc[res & cz & (tr['year'] == 2018), ['FC_TRA_OTH_E_RED', 'FC_TRA_RAIL_E_RED', 'FC_TRA_ROAD_E_RED']]"
   ]
  },
  {
   "cell_type": "code",
   "execution_count": 28,
   "metadata": {},
   "outputs": [
    {
     "output_type": "execute_result",
     "data": {
      "text/plain": [
       "354.193"
      ]
     },
     "metadata": {},
     "execution_count": 28
    }
   ],
   "source": [
    "tr.loc[res & cz & (tr['year'] == 2018), ['FC_TRA_OTH_E_RED', 'FC_TRA_RAIL_E_RED', 'FC_TRA_ROAD_E_RED']].sum().sum()"
   ]
  },
  {
   "cell_type": "code",
   "execution_count": 29,
   "metadata": {},
   "outputs": [
    {
     "output_type": "stream",
     "name": "stdout",
     "text": [
      "CZ : 354.193 vs. 354.194\n",
      "DK : 237.297 vs. 236.672\n",
      "AT : 675.935 vs. 664.53\n",
      "NL : 564.862 vs. 562.398\n",
      "SK : 160.664 vs. 160.664\n",
      "PL : 1002.405 vs. 1002.405\n",
      "DE : 3055.523 vs. 3021.757\n",
      "UK : 1453.573 vs. 1439.611\n",
      "SE : 1643.2590000000002 vs. 1643.259\n",
      "EU27_2020 : 17205.777000000002 vs. 17131.334\n",
      "EU28 : 18659.35 vs. 18570.944\n"
     ]
    }
   ],
   "source": [
    "\n",
    "renewables_codes = [\n",
    "    'RA100', 'RA200', 'RA300', 'RA410', 'RA420', 'RA500', 'RA600',\n",
    "    'R5110-5150_W6000RI', 'R5200', 'R5300', 'W6210',\n",
    "    'RHYD', 'RSYNF', 'E7100',\n",
    "    ]\n",
    "\n",
    "for country in countries:\n",
    "    test_sector(tr, country, renewables_codes=renewables_codes, var_to_sum=['FC_TRA_OTH_E_RED', 'FC_TRA_RAIL_E_RED', 'FC_TRA_ROAD_E_RED'], gfc_var='GFC_TRA_E_NMULTI',)"
   ]
  },
  {
   "source": [
    "I the transport sector, if I do not work with general Liquid biofuels (R5200), there aren't any Sustainable liquid biofuels in Czechia, which is a country I need for comparisons.\n",
    "\n",
    "Unfortunatelly in this way I overshoot the GFC for most of the other countries (except CZ, PL, SE, SK)"
   ],
   "cell_type": "markdown",
   "metadata": {}
  },
  {
   "cell_type": "code",
   "execution_count": null,
   "metadata": {},
   "outputs": [],
   "source": []
  }
 ]
}