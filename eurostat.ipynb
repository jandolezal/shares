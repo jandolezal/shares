{
 "metadata": {
  "language_info": {
   "codemirror_mode": {
    "name": "ipython",
    "version": 3
   },
   "file_extension": ".py",
   "mimetype": "text/x-python",
   "name": "python",
   "nbconvert_exporter": "python",
   "pygments_lexer": "ipython3",
   "version": "3.7.0-final"
  },
  "orig_nbformat": 2,
  "kernelspec": {
   "name": "Python 3.7.0 64-bit ('anaconda3': virtualenv)",
   "display_name": "Python 3.7.0 64-bit ('anaconda3': virtualenv)",
   "metadata": {
    "interpreter": {
     "hash": "639da732ab091020ab968f361f5d8817f716db792fde42dd09c3e2e290128d87"
    }
   }
  }
 },
 "nbformat": 4,
 "nbformat_minor": 2,
 "cells": [
  {
   "source": [
    "# Eurostat SHARES\n",
    "\n",
    "Bioenergy\n",
    "\n",
    "[Standard international energy product classification (SIEC)](http://dd.eionet.europa.eu/vocabulary/eurostat/siec/) vocabulary\n",
    "\n",
    "[Energy balance](http://dd.eionet.europa.eu/vocabulary/eurostat/nrg_bal/) vocabulary"
   ],
   "cell_type": "markdown",
   "metadata": {}
  },
  {
   "cell_type": "code",
   "execution_count": 1,
   "metadata": {},
   "outputs": [],
   "source": [
    "import pandas as pd\n",
    "import numpy as np"
   ]
  },
  {
   "cell_type": "code",
   "execution_count": 2,
   "metadata": {},
   "outputs": [
    {
     "output_type": "execute_result",
     "data": {
      "text/plain": [
       "{'Renewables and biofuels': 'RA000',\n",
       " 'Primary solid biofuels': 'R5110-5150_W6000RI',\n",
       " 'Biogases': 'R5300',\n",
       " 'Liquid biofuels': 'R5200',\n",
       " 'Renewable municipal waste': 'W6210'}"
      ]
     },
     "metadata": {},
     "execution_count": 2
    }
   ],
   "source": [
    "# Standard international energy product classification (SIEC)\n",
    "# https://dd.eionet.europa.eu\n",
    "\n",
    "siec = pd.read_csv('siec.csv')\n",
    "fuels = [\n",
    "    'Renewables and biofuels',\n",
    "    'Primary solid biofuels',\n",
    "    'Biogases',\n",
    "    'Liquid biofuels',\n",
    "    'Renewable municipal waste',\n",
    "    ]\n",
    "\n",
    "fuels_dict = {}\n",
    "for fuel in fuels:\n",
    "    fuels_dict[fuel] = siec[siec['Label'] == fuel]['Notation'].values[0]\n",
    "\n",
    "fuels_dict"
   ]
  },
  {
   "source": [
    "## Electricity"
   ],
   "cell_type": "markdown",
   "metadata": {}
  },
  {
   "cell_type": "code",
   "execution_count": 3,
   "metadata": {},
   "outputs": [],
   "source": [
    "el = pd.read_table('nrg_ind_ured.tsv', delimiter='[\\t,]+')\n",
    "el.rename(columns={'geo\\\\time': 'geo'}, inplace=True)\n",
    "el.rename(columns={str(year) + ' ': year for year in range(2004, 2019)}, inplace=True)\n",
    "el.rename(columns={'2004': 2004}, inplace=True)"
   ]
  },
  {
   "cell_type": "code",
   "execution_count": 4,
   "metadata": {},
   "outputs": [
    {
     "output_type": "execute_result",
     "data": {
      "text/plain": [
       "                   siec        nrg_bal unit geo       2018       2017  \\\n",
       "6                 E7000  GEP_NPUMP_MIX  GWH  CZ      0.000      0.000   \n",
       "46                E7000     NMLPRD_MIX  GWH  CZ      0.000      0.000   \n",
       "86                E7000    NMLPRD_PURE  GWH  CZ   2235.928   2228.037   \n",
       "126  R5110-5150_W6000RI        GEP_RED  GWH  CZ   2120.884   2213.397   \n",
       "166              R5292P        GEP_RED  GWH  CZ      0.000      0.000   \n",
       "206             R5292SB        GEP_RED  GWH  CZ      0.000      0.000   \n",
       "246             R5292SP        GEP_RED  GWH  CZ      0.000      0.000   \n",
       "286             R5293SB        GEP_RED  GWH  CZ      0.000      0.000   \n",
       "326             R5293SP        GEP_RED  GWH  CZ      0.000      0.000   \n",
       "366               R5300        GEP_RED  GWH  CZ   2607.205   2639.263   \n",
       "406              R5300B        GEP_RED  GWH  CZ      0.000      0.000   \n",
       "446               RA000        GEP_RED  GWH  CZ  10019.438   9945.977   \n",
       "486               RA100        GEP_RED  GWH  CZ   2235.928   2228.037   \n",
       "526               RA200        GEP_RED  GWH  CZ      0.000      0.000   \n",
       "566               RA300        GEP_RED  GWH  CZ    596.351    557.596   \n",
       "606               RA410        GEP_RED  GWH  CZ      0.000      0.000   \n",
       "646               RA420        GEP_RED  GWH  CZ   2358.881   2193.367   \n",
       "686               RA500        GEP_RED  GWH  CZ      0.000      0.000   \n",
       "726               TOTAL        GFC_ELC  GWH  CZ  73074.341  72842.871   \n",
       "766               W6210        GEP_RED  GWH  CZ    100.189    114.318   \n",
       "\n",
       "          2016       2015       2014       2013       2012       2011  \\\n",
       "6        0.000      0.000      0.000      0.000      0.000      0.000   \n",
       "46       0.000      0.000      0.000      0.000      0.000      0.000   \n",
       "86    2279.294   2290.974   2288.313   2281.102   2181.254   2142.001   \n",
       "126   2067.744   2091.495   1992.218   1683.272   1817.337   1684.571   \n",
       "166      0.000      0.000      0.000      0.000      0.000      0.000   \n",
       "206      0.000      0.000      0.000      0.000      0.000      0.000   \n",
       "246      0.000      0.000      0.000      0.000      0.000      0.000   \n",
       "286      0.000      0.000      0.000      0.000      0.000      0.000   \n",
       "326      0.000      0.000      0.000      0.000      0.000      0.000   \n",
       "366   2589.023   2610.964   2583.363   2293.592   1467.684    928.714   \n",
       "406      0.000      0.000      0.000      0.000      0.000      0.000   \n",
       "446   9684.726   9864.715   9555.977   8834.684   8116.157   7398.486   \n",
       "486   2279.294   2290.974   2288.313   2281.102   2181.254   2142.001   \n",
       "526      0.000      0.000      0.000      0.000      0.000      0.000   \n",
       "566    518.648    520.785    481.270    460.222    414.573    370.992   \n",
       "606      0.000      0.000      0.000      0.000      0.000      0.000   \n",
       "646   2131.455   2263.846   2122.869   2032.654   2148.624   2182.018   \n",
       "686      0.000      0.000      0.000      0.000      0.000      0.000   \n",
       "726  71133.452  70101.038  68796.474  69121.232  69567.024  69732.137   \n",
       "766     98.563     86.651     87.945     83.842     86.685     90.190   \n",
       "\n",
       "          2010       2009       2008       2007       2006       2005  \\\n",
       "6        0.000      0.000      0.000      0.000      0.000      0.000   \n",
       "46       0.000      0.000      0.000      0.000      0.000      0.000   \n",
       "86    2167.848   2111.640   2045.173   2003.522   1953.549   1872.621   \n",
       "126   1492.239   1396.262   1170.527    968.062    731.066    560.252   \n",
       "166      0.000      0.000      0.000      0.000      0.000      0.000   \n",
       "206      0.000      0.000      0.000      0.000      0.000      0.000   \n",
       "246      0.000      0.000      0.000      0.000      0.000      0.000   \n",
       "286      0.000      0.000      0.000      0.000      0.000      0.000   \n",
       "326      0.000      0.000      0.000      0.000      0.000      0.000   \n",
       "366    634.662    441.265    266.868    215.222    175.837    160.857   \n",
       "406      0.000      0.000      0.000      0.000      0.000      0.000   \n",
       "446   5288.423   4336.555   3722.165   3309.071   2909.191   2620.833   \n",
       "486   2167.848   2111.640   2045.173   2003.522   1953.549   1872.621   \n",
       "526      0.000      0.000      0.000      0.000      0.000      0.000   \n",
       "566    342.386    287.644    214.976    108.163     36.883     16.077   \n",
       "606      0.000      0.000      0.000      0.000      0.000      0.000   \n",
       "646    615.702     88.807     12.937      2.127      0.592      0.414   \n",
       "686      0.000      0.000      0.000      0.000      0.000      0.000   \n",
       "726  70363.895  67987.900  71826.000  71611.191  71023.400  69296.908   \n",
       "766     35.586     10.937     11.684     11.975     11.264     10.612   \n",
       "\n",
       "          2004  \n",
       "6        0.000  \n",
       "46       0.000  \n",
       "86    1791.044  \n",
       "126    564.546  \n",
       "166      0.000  \n",
       "206      0.000  \n",
       "246      0.000  \n",
       "286      0.000  \n",
       "326      0.000  \n",
       "366    138.794  \n",
       "406      0.000  \n",
       "446   2513.657  \n",
       "486   1791.044  \n",
       "526      0.000  \n",
       "566      8.950  \n",
       "606      0.000  \n",
       "646      0.291  \n",
       "686      0.000  \n",
       "726  68072.600  \n",
       "766     10.031  "
      ],
      "text/html": "<div>\n<style scoped>\n    .dataframe tbody tr th:only-of-type {\n        vertical-align: middle;\n    }\n\n    .dataframe tbody tr th {\n        vertical-align: top;\n    }\n\n    .dataframe thead th {\n        text-align: right;\n    }\n</style>\n<table border=\"1\" class=\"dataframe\">\n  <thead>\n    <tr style=\"text-align: right;\">\n      <th></th>\n      <th>siec</th>\n      <th>nrg_bal</th>\n      <th>unit</th>\n      <th>geo</th>\n      <th>2018</th>\n      <th>2017</th>\n      <th>2016</th>\n      <th>2015</th>\n      <th>2014</th>\n      <th>2013</th>\n      <th>2012</th>\n      <th>2011</th>\n      <th>2010</th>\n      <th>2009</th>\n      <th>2008</th>\n      <th>2007</th>\n      <th>2006</th>\n      <th>2005</th>\n      <th>2004</th>\n    </tr>\n  </thead>\n  <tbody>\n    <tr>\n      <th>6</th>\n      <td>E7000</td>\n      <td>GEP_NPUMP_MIX</td>\n      <td>GWH</td>\n      <td>CZ</td>\n      <td>0.000</td>\n      <td>0.000</td>\n      <td>0.000</td>\n      <td>0.000</td>\n      <td>0.000</td>\n      <td>0.000</td>\n      <td>0.000</td>\n      <td>0.000</td>\n      <td>0.000</td>\n      <td>0.000</td>\n      <td>0.000</td>\n      <td>0.000</td>\n      <td>0.000</td>\n      <td>0.000</td>\n      <td>0.000</td>\n    </tr>\n    <tr>\n      <th>46</th>\n      <td>E7000</td>\n      <td>NMLPRD_MIX</td>\n      <td>GWH</td>\n      <td>CZ</td>\n      <td>0.000</td>\n      <td>0.000</td>\n      <td>0.000</td>\n      <td>0.000</td>\n      <td>0.000</td>\n      <td>0.000</td>\n      <td>0.000</td>\n      <td>0.000</td>\n      <td>0.000</td>\n      <td>0.000</td>\n      <td>0.000</td>\n      <td>0.000</td>\n      <td>0.000</td>\n      <td>0.000</td>\n      <td>0.000</td>\n    </tr>\n    <tr>\n      <th>86</th>\n      <td>E7000</td>\n      <td>NMLPRD_PURE</td>\n      <td>GWH</td>\n      <td>CZ</td>\n      <td>2235.928</td>\n      <td>2228.037</td>\n      <td>2279.294</td>\n      <td>2290.974</td>\n      <td>2288.313</td>\n      <td>2281.102</td>\n      <td>2181.254</td>\n      <td>2142.001</td>\n      <td>2167.848</td>\n      <td>2111.640</td>\n      <td>2045.173</td>\n      <td>2003.522</td>\n      <td>1953.549</td>\n      <td>1872.621</td>\n      <td>1791.044</td>\n    </tr>\n    <tr>\n      <th>126</th>\n      <td>R5110-5150_W6000RI</td>\n      <td>GEP_RED</td>\n      <td>GWH</td>\n      <td>CZ</td>\n      <td>2120.884</td>\n      <td>2213.397</td>\n      <td>2067.744</td>\n      <td>2091.495</td>\n      <td>1992.218</td>\n      <td>1683.272</td>\n      <td>1817.337</td>\n      <td>1684.571</td>\n      <td>1492.239</td>\n      <td>1396.262</td>\n      <td>1170.527</td>\n      <td>968.062</td>\n      <td>731.066</td>\n      <td>560.252</td>\n      <td>564.546</td>\n    </tr>\n    <tr>\n      <th>166</th>\n      <td>R5292P</td>\n      <td>GEP_RED</td>\n      <td>GWH</td>\n      <td>CZ</td>\n      <td>0.000</td>\n      <td>0.000</td>\n      <td>0.000</td>\n      <td>0.000</td>\n      <td>0.000</td>\n      <td>0.000</td>\n      <td>0.000</td>\n      <td>0.000</td>\n      <td>0.000</td>\n      <td>0.000</td>\n      <td>0.000</td>\n      <td>0.000</td>\n      <td>0.000</td>\n      <td>0.000</td>\n      <td>0.000</td>\n    </tr>\n    <tr>\n      <th>206</th>\n      <td>R5292SB</td>\n      <td>GEP_RED</td>\n      <td>GWH</td>\n      <td>CZ</td>\n      <td>0.000</td>\n      <td>0.000</td>\n      <td>0.000</td>\n      <td>0.000</td>\n      <td>0.000</td>\n      <td>0.000</td>\n      <td>0.000</td>\n      <td>0.000</td>\n      <td>0.000</td>\n      <td>0.000</td>\n      <td>0.000</td>\n      <td>0.000</td>\n      <td>0.000</td>\n      <td>0.000</td>\n      <td>0.000</td>\n    </tr>\n    <tr>\n      <th>246</th>\n      <td>R5292SP</td>\n      <td>GEP_RED</td>\n      <td>GWH</td>\n      <td>CZ</td>\n      <td>0.000</td>\n      <td>0.000</td>\n      <td>0.000</td>\n      <td>0.000</td>\n      <td>0.000</td>\n      <td>0.000</td>\n      <td>0.000</td>\n      <td>0.000</td>\n      <td>0.000</td>\n      <td>0.000</td>\n      <td>0.000</td>\n      <td>0.000</td>\n      <td>0.000</td>\n      <td>0.000</td>\n      <td>0.000</td>\n    </tr>\n    <tr>\n      <th>286</th>\n      <td>R5293SB</td>\n      <td>GEP_RED</td>\n      <td>GWH</td>\n      <td>CZ</td>\n      <td>0.000</td>\n      <td>0.000</td>\n      <td>0.000</td>\n      <td>0.000</td>\n      <td>0.000</td>\n      <td>0.000</td>\n      <td>0.000</td>\n      <td>0.000</td>\n      <td>0.000</td>\n      <td>0.000</td>\n      <td>0.000</td>\n      <td>0.000</td>\n      <td>0.000</td>\n      <td>0.000</td>\n      <td>0.000</td>\n    </tr>\n    <tr>\n      <th>326</th>\n      <td>R5293SP</td>\n      <td>GEP_RED</td>\n      <td>GWH</td>\n      <td>CZ</td>\n      <td>0.000</td>\n      <td>0.000</td>\n      <td>0.000</td>\n      <td>0.000</td>\n      <td>0.000</td>\n      <td>0.000</td>\n      <td>0.000</td>\n      <td>0.000</td>\n      <td>0.000</td>\n      <td>0.000</td>\n      <td>0.000</td>\n      <td>0.000</td>\n      <td>0.000</td>\n      <td>0.000</td>\n      <td>0.000</td>\n    </tr>\n    <tr>\n      <th>366</th>\n      <td>R5300</td>\n      <td>GEP_RED</td>\n      <td>GWH</td>\n      <td>CZ</td>\n      <td>2607.205</td>\n      <td>2639.263</td>\n      <td>2589.023</td>\n      <td>2610.964</td>\n      <td>2583.363</td>\n      <td>2293.592</td>\n      <td>1467.684</td>\n      <td>928.714</td>\n      <td>634.662</td>\n      <td>441.265</td>\n      <td>266.868</td>\n      <td>215.222</td>\n      <td>175.837</td>\n      <td>160.857</td>\n      <td>138.794</td>\n    </tr>\n    <tr>\n      <th>406</th>\n      <td>R5300B</td>\n      <td>GEP_RED</td>\n      <td>GWH</td>\n      <td>CZ</td>\n      <td>0.000</td>\n      <td>0.000</td>\n      <td>0.000</td>\n      <td>0.000</td>\n      <td>0.000</td>\n      <td>0.000</td>\n      <td>0.000</td>\n      <td>0.000</td>\n      <td>0.000</td>\n      <td>0.000</td>\n      <td>0.000</td>\n      <td>0.000</td>\n      <td>0.000</td>\n      <td>0.000</td>\n      <td>0.000</td>\n    </tr>\n    <tr>\n      <th>446</th>\n      <td>RA000</td>\n      <td>GEP_RED</td>\n      <td>GWH</td>\n      <td>CZ</td>\n      <td>10019.438</td>\n      <td>9945.977</td>\n      <td>9684.726</td>\n      <td>9864.715</td>\n      <td>9555.977</td>\n      <td>8834.684</td>\n      <td>8116.157</td>\n      <td>7398.486</td>\n      <td>5288.423</td>\n      <td>4336.555</td>\n      <td>3722.165</td>\n      <td>3309.071</td>\n      <td>2909.191</td>\n      <td>2620.833</td>\n      <td>2513.657</td>\n    </tr>\n    <tr>\n      <th>486</th>\n      <td>RA100</td>\n      <td>GEP_RED</td>\n      <td>GWH</td>\n      <td>CZ</td>\n      <td>2235.928</td>\n      <td>2228.037</td>\n      <td>2279.294</td>\n      <td>2290.974</td>\n      <td>2288.313</td>\n      <td>2281.102</td>\n      <td>2181.254</td>\n      <td>2142.001</td>\n      <td>2167.848</td>\n      <td>2111.640</td>\n      <td>2045.173</td>\n      <td>2003.522</td>\n      <td>1953.549</td>\n      <td>1872.621</td>\n      <td>1791.044</td>\n    </tr>\n    <tr>\n      <th>526</th>\n      <td>RA200</td>\n      <td>GEP_RED</td>\n      <td>GWH</td>\n      <td>CZ</td>\n      <td>0.000</td>\n      <td>0.000</td>\n      <td>0.000</td>\n      <td>0.000</td>\n      <td>0.000</td>\n      <td>0.000</td>\n      <td>0.000</td>\n      <td>0.000</td>\n      <td>0.000</td>\n      <td>0.000</td>\n      <td>0.000</td>\n      <td>0.000</td>\n      <td>0.000</td>\n      <td>0.000</td>\n      <td>0.000</td>\n    </tr>\n    <tr>\n      <th>566</th>\n      <td>RA300</td>\n      <td>GEP_RED</td>\n      <td>GWH</td>\n      <td>CZ</td>\n      <td>596.351</td>\n      <td>557.596</td>\n      <td>518.648</td>\n      <td>520.785</td>\n      <td>481.270</td>\n      <td>460.222</td>\n      <td>414.573</td>\n      <td>370.992</td>\n      <td>342.386</td>\n      <td>287.644</td>\n      <td>214.976</td>\n      <td>108.163</td>\n      <td>36.883</td>\n      <td>16.077</td>\n      <td>8.950</td>\n    </tr>\n    <tr>\n      <th>606</th>\n      <td>RA410</td>\n      <td>GEP_RED</td>\n      <td>GWH</td>\n      <td>CZ</td>\n      <td>0.000</td>\n      <td>0.000</td>\n      <td>0.000</td>\n      <td>0.000</td>\n      <td>0.000</td>\n      <td>0.000</td>\n      <td>0.000</td>\n      <td>0.000</td>\n      <td>0.000</td>\n      <td>0.000</td>\n      <td>0.000</td>\n      <td>0.000</td>\n      <td>0.000</td>\n      <td>0.000</td>\n      <td>0.000</td>\n    </tr>\n    <tr>\n      <th>646</th>\n      <td>RA420</td>\n      <td>GEP_RED</td>\n      <td>GWH</td>\n      <td>CZ</td>\n      <td>2358.881</td>\n      <td>2193.367</td>\n      <td>2131.455</td>\n      <td>2263.846</td>\n      <td>2122.869</td>\n      <td>2032.654</td>\n      <td>2148.624</td>\n      <td>2182.018</td>\n      <td>615.702</td>\n      <td>88.807</td>\n      <td>12.937</td>\n      <td>2.127</td>\n      <td>0.592</td>\n      <td>0.414</td>\n      <td>0.291</td>\n    </tr>\n    <tr>\n      <th>686</th>\n      <td>RA500</td>\n      <td>GEP_RED</td>\n      <td>GWH</td>\n      <td>CZ</td>\n      <td>0.000</td>\n      <td>0.000</td>\n      <td>0.000</td>\n      <td>0.000</td>\n      <td>0.000</td>\n      <td>0.000</td>\n      <td>0.000</td>\n      <td>0.000</td>\n      <td>0.000</td>\n      <td>0.000</td>\n      <td>0.000</td>\n      <td>0.000</td>\n      <td>0.000</td>\n      <td>0.000</td>\n      <td>0.000</td>\n    </tr>\n    <tr>\n      <th>726</th>\n      <td>TOTAL</td>\n      <td>GFC_ELC</td>\n      <td>GWH</td>\n      <td>CZ</td>\n      <td>73074.341</td>\n      <td>72842.871</td>\n      <td>71133.452</td>\n      <td>70101.038</td>\n      <td>68796.474</td>\n      <td>69121.232</td>\n      <td>69567.024</td>\n      <td>69732.137</td>\n      <td>70363.895</td>\n      <td>67987.900</td>\n      <td>71826.000</td>\n      <td>71611.191</td>\n      <td>71023.400</td>\n      <td>69296.908</td>\n      <td>68072.600</td>\n    </tr>\n    <tr>\n      <th>766</th>\n      <td>W6210</td>\n      <td>GEP_RED</td>\n      <td>GWH</td>\n      <td>CZ</td>\n      <td>100.189</td>\n      <td>114.318</td>\n      <td>98.563</td>\n      <td>86.651</td>\n      <td>87.945</td>\n      <td>83.842</td>\n      <td>86.685</td>\n      <td>90.190</td>\n      <td>35.586</td>\n      <td>10.937</td>\n      <td>11.684</td>\n      <td>11.975</td>\n      <td>11.264</td>\n      <td>10.612</td>\n      <td>10.031</td>\n    </tr>\n  </tbody>\n</table>\n</div>"
     },
     "metadata": {},
     "execution_count": 4
    }
   ],
   "source": [
    "cz = el['geo'] == 'CZ'\n",
    "el[cz]"
   ]
  },
  {
   "cell_type": "code",
   "execution_count": 5,
   "metadata": {},
   "outputs": [
    {
     "output_type": "stream",
     "name": "stdout",
     "text": [
      "427.083 ktoe in 2017\n"
     ]
    }
   ],
   "source": [
    "bio = el['siec'].str.contains('R5300') | el['siec'].str.contains('R5110-5150_W6000RI') | el['siec'].str.contains('W6210')\n",
    "ghp = el['nrg_bal'] == 'GHP_RED'\n",
    "fc = el['nrg_bal'].str.contains('FC_')\n",
    "\n",
    "bioel_gwh = el[cz & bio][2017].sum()\n",
    "bioel_ktoe = bioel_gwh * 3.6 / 41.868\n",
    "\n",
    "print(f'{round(bioel_ktoe, 3)} ktoe in 2017')"
   ]
  },
  {
   "source": [
    "## Heating and cooling sector"
   ],
   "cell_type": "markdown",
   "metadata": {}
  },
  {
   "cell_type": "code",
   "execution_count": 6,
   "metadata": {},
   "outputs": [],
   "source": [
    "hc = df = pd.read_table('nrg_ind_urhcd.tsv', delimiter='[\\t,]+')\n",
    "hc.rename(columns={'geo\\\\time': 'geo'}, inplace=True)\n",
    "hc.rename(columns={str(year) + ' ': year for year in range(2004, 2019)}, inplace=True)\n",
    "hc.rename(columns={'2004': 2004}, inplace=True)\n",
    "\n",
    "for col in range(2004,2019):\n",
    "    hc[col] = pd.to_numeric(hc[col], errors='coerce')\n"
   ]
  },
  {
   "cell_type": "code",
   "execution_count": 7,
   "metadata": {},
   "outputs": [
    {
     "output_type": "execute_result",
     "data": {
      "text/plain": [
       "                    siec        nrg_bal    unit geo       2018       2017  \\\n",
       "6     R5110-5150_W6000RI   FC_IND_OTH_E    KTOE  CZ   2323.972   2274.550   \n",
       "46    R5110-5150_W6000RI        GHP_RED    KTOE  CZ    161.939    171.034   \n",
       "86                 R5160   FC_IND_OTH_E    KTOE  CZ      0.000      0.000   \n",
       "126                R5292   FC_IND_OTH_E    KTOE  CZ      0.000      0.000   \n",
       "166               R5292P        GHP_RED    KTOE  CZ      0.000      0.000   \n",
       "206               R5292S   FC_IND_OTH_E    KTOE  CZ      0.000      0.000   \n",
       "246              R5292SB        GHP_RED    KTOE  CZ      0.000      0.000   \n",
       "286              R5292SP        GHP_RED    KTOE  CZ      0.000      0.000   \n",
       "326               R5293S   FC_IND_OTH_E    KTOE  CZ      0.000      0.000   \n",
       "366              R5293SB        GHP_RED    KTOE  CZ      0.000      0.000   \n",
       "406              R5293SP        GHP_RED    KTOE  CZ      0.000      0.000   \n",
       "446                R5300   FC_IND_OTH_E    KTOE  CZ    152.379    158.489   \n",
       "486                R5300        GHP_RED    KTOE  CZ     17.461     17.158   \n",
       "526               R5300B  BIOG_G_ADJSHR      PC  CZ      0.000      0.000   \n",
       "566               R5300B     BIOG_G_SHR      PC  CZ      0.000      0.000   \n",
       "606               R5300B     BIOG_G_TRA  TJ_GCV  CZ      0.000      0.000   \n",
       "646               R5300B   FC_IND_OTH_E    KTOE  CZ      0.000      0.000   \n",
       "686               R5300B        GHP_RED    KTOE  CZ      0.000      0.000   \n",
       "726                RA000  GFC_HEAT_CL_E    KTOE  CZ   2912.289   2850.721   \n",
       "766                RA200   FC_IND_OTH_E    KTOE  CZ      0.000      0.000   \n",
       "806                RA200        GHP_RED    KTOE  CZ      0.000      0.000   \n",
       "846                RA410   FC_IND_OTH_E    KTOE  CZ     20.780     19.753   \n",
       "886                RA410        GHP_RED    KTOE  CZ      0.000      0.000   \n",
       "926                RA600       PPRD_RED    KTOE  CZ    172.798    146.909   \n",
       "966                TOTAL  GFC_HEAT_CL_E    KTOE  CZ  14103.467  14449.561   \n",
       "1006               W6210   FC_IND_OTH_E    KTOE  CZ     22.796     22.269   \n",
       "1046               W6210        GHP_RED    KTOE  CZ     40.165     40.560   \n",
       "\n",
       "           2016       2015       2014       2013       2012       2011  \\\n",
       "6      2277.587   2251.218   2195.639   2150.855   2051.471   1958.775   \n",
       "46      160.672    153.196    139.032    119.495     70.316     71.367   \n",
       "86        0.000      0.000      0.000      0.000      0.000      0.000   \n",
       "126       0.000      0.000      0.000      0.000      0.000      0.000   \n",
       "166       0.000      0.000      0.000      0.000      0.000      0.000   \n",
       "206       0.000      0.000      0.000      0.000      0.000      0.000   \n",
       "246       0.000      0.000      0.000      0.000      0.000      0.000   \n",
       "286       0.000      0.000      0.000      0.000      0.000      0.000   \n",
       "326       0.000      0.000      0.000      0.000      0.000      0.000   \n",
       "366       0.000      0.000      0.000      0.000      0.000      0.000   \n",
       "406       0.000      0.000      0.000      0.000      0.000      0.000   \n",
       "446     164.541    140.155    137.671    134.375     99.026     70.364   \n",
       "486      14.331     14.880     13.495     11.632      8.718      7.237   \n",
       "526       0.000      0.000      0.000      0.000      0.000      0.000   \n",
       "566       0.000      0.000      0.000      0.000      0.000      0.000   \n",
       "606       0.000      0.000      0.000      0.000      0.000      0.000   \n",
       "646       0.000      0.000      0.000      0.000      0.000      0.000   \n",
       "686       0.000      0.000      0.000      0.000      0.000      0.000   \n",
       "726    2819.229   2745.651   2655.878   2571.956   2369.468   2231.237   \n",
       "766       0.000      0.000      0.000      0.000      0.000      0.000   \n",
       "806       0.000      0.000      0.000      0.000      0.000      0.000   \n",
       "846      18.797     17.722     16.504     15.047     13.399     10.867   \n",
       "886       0.000      0.000      0.000      0.000      0.000      0.000   \n",
       "926     125.549    108.004     94.494     82.322     70.123     58.312   \n",
       "966   14177.067  13872.509  13595.809  14521.101  14579.889  14500.379   \n",
       "1006     21.902     23.168     21.544     22.714     20.493     20.541   \n",
       "1046     35.851     37.308     37.499     35.516     35.922     33.773   \n",
       "\n",
       "           2010       2009       2008       2007       2006       2005  \\\n",
       "6      1932.478   1869.399   1775.294   1731.322   1668.983   1602.560   \n",
       "46       58.708     49.847     45.428     40.078     37.762     52.403   \n",
       "86        0.000      0.000      0.000      0.000      0.000      0.000   \n",
       "126       0.000      0.000      0.000      0.000      0.000      0.000   \n",
       "166       0.000      0.000      0.000      0.000      0.000      0.000   \n",
       "206         NaN        NaN        NaN        NaN        NaN        NaN   \n",
       "246         NaN        NaN        NaN        NaN        NaN        NaN   \n",
       "286         NaN        NaN        NaN        NaN        NaN        NaN   \n",
       "326         NaN        NaN        NaN        NaN        NaN        NaN   \n",
       "366         NaN        NaN        NaN        NaN        NaN        NaN   \n",
       "406         NaN        NaN        NaN        NaN        NaN        NaN   \n",
       "446      54.552     37.403     29.832     25.819     24.386     20.708   \n",
       "486       6.114      4.180      3.845      3.081      2.245      2.460   \n",
       "526       0.000      0.000      0.000      0.000      0.000      0.000   \n",
       "566       0.000      0.000      0.000      0.000      0.000      0.000   \n",
       "606       0.000      0.000      0.000      0.000      0.000      0.000   \n",
       "646       0.000      0.000      0.000      0.000      0.000      0.000   \n",
       "686       0.000      0.000      0.000      0.000      0.000      0.000   \n",
       "726    2154.739   2047.661   1936.756   1876.357   1801.177   1740.385   \n",
       "766       0.000      0.000      0.000      0.000      0.000      0.000   \n",
       "806       0.000      0.000      0.000      0.000      0.000      0.000   \n",
       "846       8.742      6.353      4.872      3.845      3.057      2.460   \n",
       "886       0.000      0.000      0.000      0.000      0.000      0.000   \n",
       "926      47.832     38.608     30.526     24.441     18.312     13.338   \n",
       "966   15285.195  14356.979  14989.773  15169.626  16028.853  16055.067   \n",
       "1006     21.042      8.360     11.011     10.629     10.032     11.130   \n",
       "1046     25.270     33.510     35.946     37.141     36.400     35.325   \n",
       "\n",
       "           2004  \n",
       "6      1441.053  \n",
       "46      145.242  \n",
       "86        0.000  \n",
       "126       0.000  \n",
       "166       0.000  \n",
       "206         NaN  \n",
       "246         NaN  \n",
       "286         NaN  \n",
       "326         NaN  \n",
       "366         NaN  \n",
       "406         NaN  \n",
       "446      23.144  \n",
       "486       2.508  \n",
       "526       0.000  \n",
       "566       0.000  \n",
       "606       0.000  \n",
       "646       0.000  \n",
       "686       0.000  \n",
       "726    1673.309  \n",
       "766       0.000  \n",
       "806       0.000  \n",
       "846       2.030  \n",
       "886       0.000  \n",
       "926      10.607  \n",
       "966   16867.703  \n",
       "1006     12.468  \n",
       "1046     36.257  "
      ],
      "text/html": "<div>\n<style scoped>\n    .dataframe tbody tr th:only-of-type {\n        vertical-align: middle;\n    }\n\n    .dataframe tbody tr th {\n        vertical-align: top;\n    }\n\n    .dataframe thead th {\n        text-align: right;\n    }\n</style>\n<table border=\"1\" class=\"dataframe\">\n  <thead>\n    <tr style=\"text-align: right;\">\n      <th></th>\n      <th>siec</th>\n      <th>nrg_bal</th>\n      <th>unit</th>\n      <th>geo</th>\n      <th>2018</th>\n      <th>2017</th>\n      <th>2016</th>\n      <th>2015</th>\n      <th>2014</th>\n      <th>2013</th>\n      <th>2012</th>\n      <th>2011</th>\n      <th>2010</th>\n      <th>2009</th>\n      <th>2008</th>\n      <th>2007</th>\n      <th>2006</th>\n      <th>2005</th>\n      <th>2004</th>\n    </tr>\n  </thead>\n  <tbody>\n    <tr>\n      <th>6</th>\n      <td>R5110-5150_W6000RI</td>\n      <td>FC_IND_OTH_E</td>\n      <td>KTOE</td>\n      <td>CZ</td>\n      <td>2323.972</td>\n      <td>2274.550</td>\n      <td>2277.587</td>\n      <td>2251.218</td>\n      <td>2195.639</td>\n      <td>2150.855</td>\n      <td>2051.471</td>\n      <td>1958.775</td>\n      <td>1932.478</td>\n      <td>1869.399</td>\n      <td>1775.294</td>\n      <td>1731.322</td>\n      <td>1668.983</td>\n      <td>1602.560</td>\n      <td>1441.053</td>\n    </tr>\n    <tr>\n      <th>46</th>\n      <td>R5110-5150_W6000RI</td>\n      <td>GHP_RED</td>\n      <td>KTOE</td>\n      <td>CZ</td>\n      <td>161.939</td>\n      <td>171.034</td>\n      <td>160.672</td>\n      <td>153.196</td>\n      <td>139.032</td>\n      <td>119.495</td>\n      <td>70.316</td>\n      <td>71.367</td>\n      <td>58.708</td>\n      <td>49.847</td>\n      <td>45.428</td>\n      <td>40.078</td>\n      <td>37.762</td>\n      <td>52.403</td>\n      <td>145.242</td>\n    </tr>\n    <tr>\n      <th>86</th>\n      <td>R5160</td>\n      <td>FC_IND_OTH_E</td>\n      <td>KTOE</td>\n      <td>CZ</td>\n      <td>0.000</td>\n      <td>0.000</td>\n      <td>0.000</td>\n      <td>0.000</td>\n      <td>0.000</td>\n      <td>0.000</td>\n      <td>0.000</td>\n      <td>0.000</td>\n      <td>0.000</td>\n      <td>0.000</td>\n      <td>0.000</td>\n      <td>0.000</td>\n      <td>0.000</td>\n      <td>0.000</td>\n      <td>0.000</td>\n    </tr>\n    <tr>\n      <th>126</th>\n      <td>R5292</td>\n      <td>FC_IND_OTH_E</td>\n      <td>KTOE</td>\n      <td>CZ</td>\n      <td>0.000</td>\n      <td>0.000</td>\n      <td>0.000</td>\n      <td>0.000</td>\n      <td>0.000</td>\n      <td>0.000</td>\n      <td>0.000</td>\n      <td>0.000</td>\n      <td>0.000</td>\n      <td>0.000</td>\n      <td>0.000</td>\n      <td>0.000</td>\n      <td>0.000</td>\n      <td>0.000</td>\n      <td>0.000</td>\n    </tr>\n    <tr>\n      <th>166</th>\n      <td>R5292P</td>\n      <td>GHP_RED</td>\n      <td>KTOE</td>\n      <td>CZ</td>\n      <td>0.000</td>\n      <td>0.000</td>\n      <td>0.000</td>\n      <td>0.000</td>\n      <td>0.000</td>\n      <td>0.000</td>\n      <td>0.000</td>\n      <td>0.000</td>\n      <td>0.000</td>\n      <td>0.000</td>\n      <td>0.000</td>\n      <td>0.000</td>\n      <td>0.000</td>\n      <td>0.000</td>\n      <td>0.000</td>\n    </tr>\n    <tr>\n      <th>206</th>\n      <td>R5292S</td>\n      <td>FC_IND_OTH_E</td>\n      <td>KTOE</td>\n      <td>CZ</td>\n      <td>0.000</td>\n      <td>0.000</td>\n      <td>0.000</td>\n      <td>0.000</td>\n      <td>0.000</td>\n      <td>0.000</td>\n      <td>0.000</td>\n      <td>0.000</td>\n      <td>NaN</td>\n      <td>NaN</td>\n      <td>NaN</td>\n      <td>NaN</td>\n      <td>NaN</td>\n      <td>NaN</td>\n      <td>NaN</td>\n    </tr>\n    <tr>\n      <th>246</th>\n      <td>R5292SB</td>\n      <td>GHP_RED</td>\n      <td>KTOE</td>\n      <td>CZ</td>\n      <td>0.000</td>\n      <td>0.000</td>\n      <td>0.000</td>\n      <td>0.000</td>\n      <td>0.000</td>\n      <td>0.000</td>\n      <td>0.000</td>\n      <td>0.000</td>\n      <td>NaN</td>\n      <td>NaN</td>\n      <td>NaN</td>\n      <td>NaN</td>\n      <td>NaN</td>\n      <td>NaN</td>\n      <td>NaN</td>\n    </tr>\n    <tr>\n      <th>286</th>\n      <td>R5292SP</td>\n      <td>GHP_RED</td>\n      <td>KTOE</td>\n      <td>CZ</td>\n      <td>0.000</td>\n      <td>0.000</td>\n      <td>0.000</td>\n      <td>0.000</td>\n      <td>0.000</td>\n      <td>0.000</td>\n      <td>0.000</td>\n      <td>0.000</td>\n      <td>NaN</td>\n      <td>NaN</td>\n      <td>NaN</td>\n      <td>NaN</td>\n      <td>NaN</td>\n      <td>NaN</td>\n      <td>NaN</td>\n    </tr>\n    <tr>\n      <th>326</th>\n      <td>R5293S</td>\n      <td>FC_IND_OTH_E</td>\n      <td>KTOE</td>\n      <td>CZ</td>\n      <td>0.000</td>\n      <td>0.000</td>\n      <td>0.000</td>\n      <td>0.000</td>\n      <td>0.000</td>\n      <td>0.000</td>\n      <td>0.000</td>\n      <td>0.000</td>\n      <td>NaN</td>\n      <td>NaN</td>\n      <td>NaN</td>\n      <td>NaN</td>\n      <td>NaN</td>\n      <td>NaN</td>\n      <td>NaN</td>\n    </tr>\n    <tr>\n      <th>366</th>\n      <td>R5293SB</td>\n      <td>GHP_RED</td>\n      <td>KTOE</td>\n      <td>CZ</td>\n      <td>0.000</td>\n      <td>0.000</td>\n      <td>0.000</td>\n      <td>0.000</td>\n      <td>0.000</td>\n      <td>0.000</td>\n      <td>0.000</td>\n      <td>0.000</td>\n      <td>NaN</td>\n      <td>NaN</td>\n      <td>NaN</td>\n      <td>NaN</td>\n      <td>NaN</td>\n      <td>NaN</td>\n      <td>NaN</td>\n    </tr>\n    <tr>\n      <th>406</th>\n      <td>R5293SP</td>\n      <td>GHP_RED</td>\n      <td>KTOE</td>\n      <td>CZ</td>\n      <td>0.000</td>\n      <td>0.000</td>\n      <td>0.000</td>\n      <td>0.000</td>\n      <td>0.000</td>\n      <td>0.000</td>\n      <td>0.000</td>\n      <td>0.000</td>\n      <td>NaN</td>\n      <td>NaN</td>\n      <td>NaN</td>\n      <td>NaN</td>\n      <td>NaN</td>\n      <td>NaN</td>\n      <td>NaN</td>\n    </tr>\n    <tr>\n      <th>446</th>\n      <td>R5300</td>\n      <td>FC_IND_OTH_E</td>\n      <td>KTOE</td>\n      <td>CZ</td>\n      <td>152.379</td>\n      <td>158.489</td>\n      <td>164.541</td>\n      <td>140.155</td>\n      <td>137.671</td>\n      <td>134.375</td>\n      <td>99.026</td>\n      <td>70.364</td>\n      <td>54.552</td>\n      <td>37.403</td>\n      <td>29.832</td>\n      <td>25.819</td>\n      <td>24.386</td>\n      <td>20.708</td>\n      <td>23.144</td>\n    </tr>\n    <tr>\n      <th>486</th>\n      <td>R5300</td>\n      <td>GHP_RED</td>\n      <td>KTOE</td>\n      <td>CZ</td>\n      <td>17.461</td>\n      <td>17.158</td>\n      <td>14.331</td>\n      <td>14.880</td>\n      <td>13.495</td>\n      <td>11.632</td>\n      <td>8.718</td>\n      <td>7.237</td>\n      <td>6.114</td>\n      <td>4.180</td>\n      <td>3.845</td>\n      <td>3.081</td>\n      <td>2.245</td>\n      <td>2.460</td>\n      <td>2.508</td>\n    </tr>\n    <tr>\n      <th>526</th>\n      <td>R5300B</td>\n      <td>BIOG_G_ADJSHR</td>\n      <td>PC</td>\n      <td>CZ</td>\n      <td>0.000</td>\n      <td>0.000</td>\n      <td>0.000</td>\n      <td>0.000</td>\n      <td>0.000</td>\n      <td>0.000</td>\n      <td>0.000</td>\n      <td>0.000</td>\n      <td>0.000</td>\n      <td>0.000</td>\n      <td>0.000</td>\n      <td>0.000</td>\n      <td>0.000</td>\n      <td>0.000</td>\n      <td>0.000</td>\n    </tr>\n    <tr>\n      <th>566</th>\n      <td>R5300B</td>\n      <td>BIOG_G_SHR</td>\n      <td>PC</td>\n      <td>CZ</td>\n      <td>0.000</td>\n      <td>0.000</td>\n      <td>0.000</td>\n      <td>0.000</td>\n      <td>0.000</td>\n      <td>0.000</td>\n      <td>0.000</td>\n      <td>0.000</td>\n      <td>0.000</td>\n      <td>0.000</td>\n      <td>0.000</td>\n      <td>0.000</td>\n      <td>0.000</td>\n      <td>0.000</td>\n      <td>0.000</td>\n    </tr>\n    <tr>\n      <th>606</th>\n      <td>R5300B</td>\n      <td>BIOG_G_TRA</td>\n      <td>TJ_GCV</td>\n      <td>CZ</td>\n      <td>0.000</td>\n      <td>0.000</td>\n      <td>0.000</td>\n      <td>0.000</td>\n      <td>0.000</td>\n      <td>0.000</td>\n      <td>0.000</td>\n      <td>0.000</td>\n      <td>0.000</td>\n      <td>0.000</td>\n      <td>0.000</td>\n      <td>0.000</td>\n      <td>0.000</td>\n      <td>0.000</td>\n      <td>0.000</td>\n    </tr>\n    <tr>\n      <th>646</th>\n      <td>R5300B</td>\n      <td>FC_IND_OTH_E</td>\n      <td>KTOE</td>\n      <td>CZ</td>\n      <td>0.000</td>\n      <td>0.000</td>\n      <td>0.000</td>\n      <td>0.000</td>\n      <td>0.000</td>\n      <td>0.000</td>\n      <td>0.000</td>\n      <td>0.000</td>\n      <td>0.000</td>\n      <td>0.000</td>\n      <td>0.000</td>\n      <td>0.000</td>\n      <td>0.000</td>\n      <td>0.000</td>\n      <td>0.000</td>\n    </tr>\n    <tr>\n      <th>686</th>\n      <td>R5300B</td>\n      <td>GHP_RED</td>\n      <td>KTOE</td>\n      <td>CZ</td>\n      <td>0.000</td>\n      <td>0.000</td>\n      <td>0.000</td>\n      <td>0.000</td>\n      <td>0.000</td>\n      <td>0.000</td>\n      <td>0.000</td>\n      <td>0.000</td>\n      <td>0.000</td>\n      <td>0.000</td>\n      <td>0.000</td>\n      <td>0.000</td>\n      <td>0.000</td>\n      <td>0.000</td>\n      <td>0.000</td>\n    </tr>\n    <tr>\n      <th>726</th>\n      <td>RA000</td>\n      <td>GFC_HEAT_CL_E</td>\n      <td>KTOE</td>\n      <td>CZ</td>\n      <td>2912.289</td>\n      <td>2850.721</td>\n      <td>2819.229</td>\n      <td>2745.651</td>\n      <td>2655.878</td>\n      <td>2571.956</td>\n      <td>2369.468</td>\n      <td>2231.237</td>\n      <td>2154.739</td>\n      <td>2047.661</td>\n      <td>1936.756</td>\n      <td>1876.357</td>\n      <td>1801.177</td>\n      <td>1740.385</td>\n      <td>1673.309</td>\n    </tr>\n    <tr>\n      <th>766</th>\n      <td>RA200</td>\n      <td>FC_IND_OTH_E</td>\n      <td>KTOE</td>\n      <td>CZ</td>\n      <td>0.000</td>\n      <td>0.000</td>\n      <td>0.000</td>\n      <td>0.000</td>\n      <td>0.000</td>\n      <td>0.000</td>\n      <td>0.000</td>\n      <td>0.000</td>\n      <td>0.000</td>\n      <td>0.000</td>\n      <td>0.000</td>\n      <td>0.000</td>\n      <td>0.000</td>\n      <td>0.000</td>\n      <td>0.000</td>\n    </tr>\n    <tr>\n      <th>806</th>\n      <td>RA200</td>\n      <td>GHP_RED</td>\n      <td>KTOE</td>\n      <td>CZ</td>\n      <td>0.000</td>\n      <td>0.000</td>\n      <td>0.000</td>\n      <td>0.000</td>\n      <td>0.000</td>\n      <td>0.000</td>\n      <td>0.000</td>\n      <td>0.000</td>\n      <td>0.000</td>\n      <td>0.000</td>\n      <td>0.000</td>\n      <td>0.000</td>\n      <td>0.000</td>\n      <td>0.000</td>\n      <td>0.000</td>\n    </tr>\n    <tr>\n      <th>846</th>\n      <td>RA410</td>\n      <td>FC_IND_OTH_E</td>\n      <td>KTOE</td>\n      <td>CZ</td>\n      <td>20.780</td>\n      <td>19.753</td>\n      <td>18.797</td>\n      <td>17.722</td>\n      <td>16.504</td>\n      <td>15.047</td>\n      <td>13.399</td>\n      <td>10.867</td>\n      <td>8.742</td>\n      <td>6.353</td>\n      <td>4.872</td>\n      <td>3.845</td>\n      <td>3.057</td>\n      <td>2.460</td>\n      <td>2.030</td>\n    </tr>\n    <tr>\n      <th>886</th>\n      <td>RA410</td>\n      <td>GHP_RED</td>\n      <td>KTOE</td>\n      <td>CZ</td>\n      <td>0.000</td>\n      <td>0.000</td>\n      <td>0.000</td>\n      <td>0.000</td>\n      <td>0.000</td>\n      <td>0.000</td>\n      <td>0.000</td>\n      <td>0.000</td>\n      <td>0.000</td>\n      <td>0.000</td>\n      <td>0.000</td>\n      <td>0.000</td>\n      <td>0.000</td>\n      <td>0.000</td>\n      <td>0.000</td>\n    </tr>\n    <tr>\n      <th>926</th>\n      <td>RA600</td>\n      <td>PPRD_RED</td>\n      <td>KTOE</td>\n      <td>CZ</td>\n      <td>172.798</td>\n      <td>146.909</td>\n      <td>125.549</td>\n      <td>108.004</td>\n      <td>94.494</td>\n      <td>82.322</td>\n      <td>70.123</td>\n      <td>58.312</td>\n      <td>47.832</td>\n      <td>38.608</td>\n      <td>30.526</td>\n      <td>24.441</td>\n      <td>18.312</td>\n      <td>13.338</td>\n      <td>10.607</td>\n    </tr>\n    <tr>\n      <th>966</th>\n      <td>TOTAL</td>\n      <td>GFC_HEAT_CL_E</td>\n      <td>KTOE</td>\n      <td>CZ</td>\n      <td>14103.467</td>\n      <td>14449.561</td>\n      <td>14177.067</td>\n      <td>13872.509</td>\n      <td>13595.809</td>\n      <td>14521.101</td>\n      <td>14579.889</td>\n      <td>14500.379</td>\n      <td>15285.195</td>\n      <td>14356.979</td>\n      <td>14989.773</td>\n      <td>15169.626</td>\n      <td>16028.853</td>\n      <td>16055.067</td>\n      <td>16867.703</td>\n    </tr>\n    <tr>\n      <th>1006</th>\n      <td>W6210</td>\n      <td>FC_IND_OTH_E</td>\n      <td>KTOE</td>\n      <td>CZ</td>\n      <td>22.796</td>\n      <td>22.269</td>\n      <td>21.902</td>\n      <td>23.168</td>\n      <td>21.544</td>\n      <td>22.714</td>\n      <td>20.493</td>\n      <td>20.541</td>\n      <td>21.042</td>\n      <td>8.360</td>\n      <td>11.011</td>\n      <td>10.629</td>\n      <td>10.032</td>\n      <td>11.130</td>\n      <td>12.468</td>\n    </tr>\n    <tr>\n      <th>1046</th>\n      <td>W6210</td>\n      <td>GHP_RED</td>\n      <td>KTOE</td>\n      <td>CZ</td>\n      <td>40.165</td>\n      <td>40.560</td>\n      <td>35.851</td>\n      <td>37.308</td>\n      <td>37.499</td>\n      <td>35.516</td>\n      <td>35.922</td>\n      <td>33.773</td>\n      <td>25.270</td>\n      <td>33.510</td>\n      <td>35.946</td>\n      <td>37.141</td>\n      <td>36.400</td>\n      <td>35.325</td>\n      <td>36.257</td>\n    </tr>\n  </tbody>\n</table>\n</div>"
     },
     "metadata": {},
     "execution_count": 7
    }
   ],
   "source": [
    "# Czech republic\n",
    "cz = hc['geo'] == 'CZ'\n",
    "hc[cz]"
   ]
  },
  {
   "cell_type": "code",
   "execution_count": 8,
   "metadata": {},
   "outputs": [
    {
     "output_type": "stream",
     "name": "stdout",
     "text": [
      "2455.308 ktoe in 2017\n"
     ]
    }
   ],
   "source": [
    "# Bioheat\n",
    "\n",
    "bio = df['siec'].str.contains('R5300') | df['siec'].str.contains('R5110-5150_W6000RI') | df['siec'].str.contains('W6210')\n",
    "ghp = df['nrg_bal'] == 'GHP_RED'\n",
    "fc = df['nrg_bal'].str.contains('FC_')\n",
    "\n",
    "bioheat_ktoe = hc[cz & bio & fc][2017].sum()\n",
    "print(f'{round(bioheat_ktoe, 3)} ktoe in 2017')"
   ]
  },
  {
   "cell_type": "code",
   "execution_count": null,
   "metadata": {},
   "outputs": [],
   "source": []
  },
  {
   "source": [
    "## Transport"
   ],
   "cell_type": "markdown",
   "metadata": {}
  },
  {
   "cell_type": "code",
   "execution_count": 14,
   "metadata": {},
   "outputs": [],
   "source": [
    "tr = pd.read_table('nrg_ind_urtd.tsv', delimiter='[\\t,]+')\n",
    "tr.rename(columns={'geo\\\\time': 'geo'}, inplace=True)\n",
    "tr.rename(columns={str(year) + ' ': year for year in range(2004, 2019)}, inplace=True)\n",
    "tr.rename(columns={'2004': 2004}, inplace=True)\n",
    "for col in range(2004,2019):\n",
    "    tr[col] = pd.to_numeric(tr[col], errors='coerce')"
   ]
  },
  {
   "cell_type": "code",
   "execution_count": 10,
   "metadata": {},
   "outputs": [
    {
     "output_type": "execute_result",
     "data": {
      "text/plain": [
       "        siec            nrg_bal  unit geo      2018      2017      2016  \\\n",
       "6      E7000       NRG_MNBRFT_E  KTOE  CZ     0.000     0.000     0.000   \n",
       "46     E7100   FC_TRA_OTH_E_RED  KTOE  CZ     1.520     1.408     0.764   \n",
       "86     E7100  FC_TRA_RAIL_E_RED  KTOE  CZ    42.205    40.165    37.878   \n",
       "126    E7100  FC_TRA_ROAD_E_RED  KTOE  CZ     1.760     1.705     1.702   \n",
       "166    E7200   FC_TRA_OTH_E_RED  KTOE  CZ     3.518     3.340     1.901   \n",
       "206    E7200  FC_TRA_RAIL_E_RED  KTOE  CZ    97.686    95.299    94.194   \n",
       "246    E7200  FC_TRA_ROAD_E_RED  KTOE  CZ     4.075     4.046     4.231   \n",
       "286    R5200    BIOFCON_LIM_TRA  KTOE  CZ   308.708   313.844   301.113   \n",
       "326    R5200        BIOF_FS_SHR    PC  CZ     4.767     4.895     4.829   \n",
       "366    R5200   FC_TRA_OTH_E_RED  KTOE  CZ     0.000     0.000     0.000   \n",
       "406    R5200  FC_TRA_RAIL_E_RED  KTOE  CZ     0.000     0.000     0.000   \n",
       "446    R5200  FC_TRA_ROAD_E_RED  KTOE  CZ   308.708   313.844   301.113   \n",
       "486    R5200             LIM_TT  KTOE  CZ   453.288   448.784   436.498   \n",
       "526   R5250S       FC_TRA_E_RED  KTOE  CZ   308.708   313.844   301.113   \n",
       "566   R5251S       FC_TRA_E_RED  KTOE  CZ     0.000     0.000     0.000   \n",
       "606   R5252S       FC_TRA_E_RED  KTOE  CZ     0.000     0.000     0.000   \n",
       "646   R5253S       FC_TRA_E_RED  KTOE  CZ     0.000     0.000     0.000   \n",
       "686   R5254S       FC_TRA_E_RED  KTOE  CZ     0.000     0.000     0.000   \n",
       "726   R5255S       FC_TRA_E_RED  KTOE  CZ     0.000     0.000     0.000   \n",
       "766   R5256S       FC_TRA_E_RED  KTOE  CZ     0.000     0.000     0.000   \n",
       "806   R5257S       FC_TRA_E_RED  KTOE  CZ     0.000     0.000     0.000   \n",
       "846   R5258S       FC_TRA_E_RED  KTOE  CZ     0.000     0.000     0.000   \n",
       "886   R5259S       FC_TRA_E_RED  KTOE  CZ     0.000     0.000     0.000   \n",
       "926   R5260S       FC_TRA_E_RED  KTOE  CZ     0.000     0.000     0.000   \n",
       "966   R5261S       FC_TRA_E_RED  KTOE  CZ     0.000     0.000     0.000   \n",
       "1006  R5262S       FC_TRA_E_RED  KTOE  CZ     0.000     0.000     0.000   \n",
       "1046  R5263S       FC_TRA_E_RED  KTOE  CZ     0.000     0.000     0.000   \n",
       "1086  R5264S       FC_TRA_E_RED  KTOE  CZ     0.000     0.000     0.000   \n",
       "1126  R5265S       FC_TRA_E_RED  KTOE  CZ     0.000     0.000     0.000   \n",
       "1166  R5266S       FC_TRA_E_RED  KTOE  CZ     0.000     0.000     0.000   \n",
       "1206  R5267S       FC_TRA_E_RED  KTOE  CZ     0.000     0.000     0.000   \n",
       "1246  R5268S       FC_TRA_E_RED  KTOE  CZ     0.000     0.000     0.000   \n",
       "1286  R5269S       FC_TRA_E_RED  KTOE  CZ     0.000     0.000     0.000   \n",
       "1326  R5270S       FC_TRA_E_RED  KTOE  CZ     0.000     0.000     0.000   \n",
       "1366  R5271S       FC_TRA_E_RED  KTOE  CZ     0.000     0.000     0.000   \n",
       "1406  R5272S       FC_TRA_E_RED  KTOE  CZ     0.000     0.000     0.000   \n",
       "1446  R5273S       FC_TRA_E_RED  KTOE  CZ     0.000     0.000     0.000   \n",
       "1486  R5274S       FC_TRA_E_RED  KTOE  CZ     0.000     0.000     0.000   \n",
       "1526  R5275S       FC_TRA_E_RED  KTOE  CZ     0.000     0.000     0.000   \n",
       "1566  R5276S       FC_TRA_E_RED  KTOE  CZ   308.708   313.844   301.113   \n",
       "1606  R5277S       FC_TRA_E_RED  KTOE  CZ     0.000     0.000     0.000   \n",
       "1646  R5278S       FC_TRA_E_RED  KTOE  CZ     0.000     0.000     0.000   \n",
       "1686  R5279S       FC_TRA_E_RED  KTOE  CZ     0.000     0.000     0.000   \n",
       "1726   R5300   FC_TRA_OTH_E_RED  KTOE  CZ     0.000     0.000     0.000   \n",
       "1766   R5300  FC_TRA_RAIL_E_RED  KTOE  CZ     0.000     0.000     0.000   \n",
       "1806   R5300  FC_TRA_ROAD_E_RED  KTOE  CZ     0.000     0.000     0.000   \n",
       "1846   RA000    GFC_TRA_E_MULTI  KTOE  CZ   424.543   424.190   405.081   \n",
       "1886   RA000   GFC_TRA_E_NMULTI  KTOE  CZ   354.194   357.122   341.457   \n",
       "1926   RA000          ST_MS_TRA  KTOE  CZ     0.000     0.000     0.000   \n",
       "1963    RHYD       FC_TRA_E_RED  KTOE  CZ     0.000     0.000     0.000   \n",
       "2003   RSYNF       FC_TRA_E_RED  KTOE  CZ     0.000     0.000     0.000   \n",
       "2043   TOTAL    GFC_TRA_E_MULTI  KTOE  CZ  6475.545  6411.198  6235.688   \n",
       "2083   TOTAL   GFC_TRA_E_NMULTI  KTOE  CZ  6412.237  6350.950  6178.871   \n",
       "\n",
       "          2015      2014      2013      2012      2011      2010      2009  \\\n",
       "6        0.000     0.000     0.000     0.000     0.000     0.000     0.000   \n",
       "46       0.923     0.779     0.682     0.641     0.605     0.575     0.380   \n",
       "86      34.700    31.542    29.923    27.668    26.739    24.257    23.643   \n",
       "126      1.524     1.406     1.345     1.264     1.228     1.165     1.048   \n",
       "166      2.516     2.317     2.241     2.368     2.319     2.521     1.770   \n",
       "206     94.535    93.823    98.280   102.168   102.496   106.439   110.235   \n",
       "246      4.151     4.183     4.416     4.669     4.705     5.112     4.885   \n",
       "286    296.503   316.757   277.109   275.270     0.000       NaN       NaN   \n",
       "326      4.947     5.494     4.970     4.895     0.000       NaN       NaN   \n",
       "366      0.000     0.000     0.000     0.000     0.000     0.000     0.000   \n",
       "406      0.000     0.000     0.000     0.000     0.000     0.000     0.000   \n",
       "446    296.503   316.757   277.109   275.270   300.110   231.251   194.779   \n",
       "486    419.575   403.608   390.293   393.655   400.782       NaN       NaN   \n",
       "526    296.503   316.757   277.109   275.270     0.000   231.251   194.779   \n",
       "566      0.000     0.000     0.000     0.000     0.000     0.000     0.000   \n",
       "606      0.000     0.000     0.000     0.000     0.000       NaN       NaN   \n",
       "646      0.000     0.000     0.000     0.000     0.000       NaN       NaN   \n",
       "686      0.000     0.000     0.000     0.000     0.000       NaN       NaN   \n",
       "726      0.000     0.000     0.000     0.000     0.000       NaN       NaN   \n",
       "766      0.000     0.000     0.000     0.000     0.000       NaN       NaN   \n",
       "806      0.000     0.000     0.000     0.000     0.000       NaN       NaN   \n",
       "846      0.000     0.000     0.000     0.000     0.000       NaN       NaN   \n",
       "886      0.000     0.000     0.000     0.000     0.000       NaN       NaN   \n",
       "926      0.000     0.000     0.000     0.000     0.000       NaN       NaN   \n",
       "966      0.000     0.000     0.000     0.000     0.000       NaN       NaN   \n",
       "1006     0.000     0.000     0.000     0.000     0.000       NaN       NaN   \n",
       "1046     0.000     0.000     0.000     0.000     0.000       NaN       NaN   \n",
       "1086     0.000     0.000     0.000     0.000     0.000       NaN       NaN   \n",
       "1126     0.000     0.000     0.000     0.000     0.000       NaN       NaN   \n",
       "1166     0.000     0.000     0.000     0.000     0.000       NaN       NaN   \n",
       "1206     0.000     0.000     0.000     0.000     0.000       NaN       NaN   \n",
       "1246     0.000     0.000     0.000     0.000     0.000       NaN       NaN   \n",
       "1286     0.000     0.000     0.000     0.000     0.000       NaN       NaN   \n",
       "1326     0.000     0.000     0.000     0.000     0.000       NaN       NaN   \n",
       "1366     0.000     0.000     0.000     0.000     0.000       NaN       NaN   \n",
       "1406     0.000     0.000     0.000     0.000     0.000       NaN       NaN   \n",
       "1446     0.000     0.000     0.000     0.000     0.000       NaN       NaN   \n",
       "1486     0.000     0.000     0.000     0.000     0.000       NaN       NaN   \n",
       "1526     0.000     0.000     0.000     0.000     0.000       NaN       NaN   \n",
       "1566   296.503   316.757   277.109   275.270     0.000       NaN       NaN   \n",
       "1606     0.000     0.000     0.000     0.000     0.000       NaN       NaN   \n",
       "1646     0.000     0.000     0.000     0.000     0.000       NaN       NaN   \n",
       "1686     0.000     0.000     0.000     0.000     0.000       NaN       NaN   \n",
       "1726     0.000     0.000     0.000     0.000     0.000     0.000     0.000   \n",
       "1766     0.000     0.000     0.000     0.000     0.000     0.000     0.000   \n",
       "1806     0.000     0.000     0.000     0.000     0.000     0.000     0.000   \n",
       "1846   391.794   403.422   359.321   351.403    73.589   298.293   259.504   \n",
       "1886   333.650   350.484   309.059   304.844    28.571   257.247   219.849   \n",
       "1926     0.000     0.000     0.000     0.000     0.000     0.000     0.000   \n",
       "1963     0.000     0.000     0.000     0.000     0.000     0.000     0.000   \n",
       "2003     0.000     0.000     0.000     0.000     0.000     0.000     0.000   \n",
       "2043  5993.933  5765.833  5575.618  5623.641  5725.462  5714.445  6017.866   \n",
       "2083  5941.883  5718.520  5530.734  5582.139  5685.354  5678.059  5982.401   \n",
       "\n",
       "          2008      2007      2006      2005      2004  \n",
       "6        0.000     0.000     0.000     0.000     0.000  \n",
       "46       0.566     0.606     0.669     0.614     0.423  \n",
       "86      23.498    23.366    22.829    23.020    23.334  \n",
       "126      1.031     0.987     0.942     0.928     0.969  \n",
       "166      2.787     3.091     3.545     3.255     2.243  \n",
       "206    115.625   119.110   121.023   122.036   123.699  \n",
       "246      5.074     5.032     4.991     4.919     5.136  \n",
       "286        NaN       NaN       NaN       NaN       NaN  \n",
       "326        NaN       NaN       NaN       NaN       NaN  \n",
       "366      0.000     0.000     0.000     0.000     0.000  \n",
       "406      0.000     0.000     0.000     0.000     0.000  \n",
       "446    109.941     0.000     0.000     0.000     0.000  \n",
       "486        NaN       NaN       NaN       NaN       NaN  \n",
       "526    109.941     0.000     0.000     0.000     0.000  \n",
       "566      0.000     0.000     0.000     0.000     0.000  \n",
       "606        NaN       NaN       NaN       NaN       NaN  \n",
       "646        NaN       NaN       NaN       NaN       NaN  \n",
       "686        NaN       NaN       NaN       NaN       NaN  \n",
       "726        NaN       NaN       NaN       NaN       NaN  \n",
       "766        NaN       NaN       NaN       NaN       NaN  \n",
       "806        NaN       NaN       NaN       NaN       NaN  \n",
       "846        NaN       NaN       NaN       NaN       NaN  \n",
       "886        NaN       NaN       NaN       NaN       NaN  \n",
       "926        NaN       NaN       NaN       NaN       NaN  \n",
       "966        NaN       NaN       NaN       NaN       NaN  \n",
       "1006       NaN       NaN       NaN       NaN       NaN  \n",
       "1046       NaN       NaN       NaN       NaN       NaN  \n",
       "1086       NaN       NaN       NaN       NaN       NaN  \n",
       "1126       NaN       NaN       NaN       NaN       NaN  \n",
       "1166       NaN       NaN       NaN       NaN       NaN  \n",
       "1206       NaN       NaN       NaN       NaN       NaN  \n",
       "1246       NaN       NaN       NaN       NaN       NaN  \n",
       "1286       NaN       NaN       NaN       NaN       NaN  \n",
       "1326       NaN       NaN       NaN       NaN       NaN  \n",
       "1366       NaN       NaN       NaN       NaN       NaN  \n",
       "1406       NaN       NaN       NaN       NaN       NaN  \n",
       "1446       NaN       NaN       NaN       NaN       NaN  \n",
       "1486       NaN       NaN       NaN       NaN       NaN  \n",
       "1526       NaN       NaN       NaN       NaN       NaN  \n",
       "1566       NaN       NaN       NaN       NaN       NaN  \n",
       "1606       NaN       NaN       NaN       NaN       NaN  \n",
       "1646       NaN       NaN       NaN       NaN       NaN  \n",
       "1686       NaN       NaN       NaN       NaN       NaN  \n",
       "1726     0.000     0.000     0.000     0.000     0.000  \n",
       "1766     0.000     0.000     0.000     0.000     0.000  \n",
       "1806     0.000     0.000     0.000     0.000     0.000  \n",
       "1846   174.407    63.957    62.450    62.805    63.603  \n",
       "1886   135.036    24.960    24.440    24.562    24.726  \n",
       "1926     0.000     0.000     0.000     0.000     0.000  \n",
       "1963     0.000     0.000     0.000     0.000     0.000  \n",
       "2003     0.000     0.000     0.000     0.000     0.000  \n",
       "2043  6135.595  6100.961  5820.553  5716.855  5289.075  \n",
       "2083  6100.348  6065.911  5786.309  5682.325  5254.074  "
      ],
      "text/html": "<div>\n<style scoped>\n    .dataframe tbody tr th:only-of-type {\n        vertical-align: middle;\n    }\n\n    .dataframe tbody tr th {\n        vertical-align: top;\n    }\n\n    .dataframe thead th {\n        text-align: right;\n    }\n</style>\n<table border=\"1\" class=\"dataframe\">\n  <thead>\n    <tr style=\"text-align: right;\">\n      <th></th>\n      <th>siec</th>\n      <th>nrg_bal</th>\n      <th>unit</th>\n      <th>geo</th>\n      <th>2018</th>\n      <th>2017</th>\n      <th>2016</th>\n      <th>2015</th>\n      <th>2014</th>\n      <th>2013</th>\n      <th>2012</th>\n      <th>2011</th>\n      <th>2010</th>\n      <th>2009</th>\n      <th>2008</th>\n      <th>2007</th>\n      <th>2006</th>\n      <th>2005</th>\n      <th>2004</th>\n    </tr>\n  </thead>\n  <tbody>\n    <tr>\n      <th>6</th>\n      <td>E7000</td>\n      <td>NRG_MNBRFT_E</td>\n      <td>KTOE</td>\n      <td>CZ</td>\n      <td>0.000</td>\n      <td>0.000</td>\n      <td>0.000</td>\n      <td>0.000</td>\n      <td>0.000</td>\n      <td>0.000</td>\n      <td>0.000</td>\n      <td>0.000</td>\n      <td>0.000</td>\n      <td>0.000</td>\n      <td>0.000</td>\n      <td>0.000</td>\n      <td>0.000</td>\n      <td>0.000</td>\n      <td>0.000</td>\n    </tr>\n    <tr>\n      <th>46</th>\n      <td>E7100</td>\n      <td>FC_TRA_OTH_E_RED</td>\n      <td>KTOE</td>\n      <td>CZ</td>\n      <td>1.520</td>\n      <td>1.408</td>\n      <td>0.764</td>\n      <td>0.923</td>\n      <td>0.779</td>\n      <td>0.682</td>\n      <td>0.641</td>\n      <td>0.605</td>\n      <td>0.575</td>\n      <td>0.380</td>\n      <td>0.566</td>\n      <td>0.606</td>\n      <td>0.669</td>\n      <td>0.614</td>\n      <td>0.423</td>\n    </tr>\n    <tr>\n      <th>86</th>\n      <td>E7100</td>\n      <td>FC_TRA_RAIL_E_RED</td>\n      <td>KTOE</td>\n      <td>CZ</td>\n      <td>42.205</td>\n      <td>40.165</td>\n      <td>37.878</td>\n      <td>34.700</td>\n      <td>31.542</td>\n      <td>29.923</td>\n      <td>27.668</td>\n      <td>26.739</td>\n      <td>24.257</td>\n      <td>23.643</td>\n      <td>23.498</td>\n      <td>23.366</td>\n      <td>22.829</td>\n      <td>23.020</td>\n      <td>23.334</td>\n    </tr>\n    <tr>\n      <th>126</th>\n      <td>E7100</td>\n      <td>FC_TRA_ROAD_E_RED</td>\n      <td>KTOE</td>\n      <td>CZ</td>\n      <td>1.760</td>\n      <td>1.705</td>\n      <td>1.702</td>\n      <td>1.524</td>\n      <td>1.406</td>\n      <td>1.345</td>\n      <td>1.264</td>\n      <td>1.228</td>\n      <td>1.165</td>\n      <td>1.048</td>\n      <td>1.031</td>\n      <td>0.987</td>\n      <td>0.942</td>\n      <td>0.928</td>\n      <td>0.969</td>\n    </tr>\n    <tr>\n      <th>166</th>\n      <td>E7200</td>\n      <td>FC_TRA_OTH_E_RED</td>\n      <td>KTOE</td>\n      <td>CZ</td>\n      <td>3.518</td>\n      <td>3.340</td>\n      <td>1.901</td>\n      <td>2.516</td>\n      <td>2.317</td>\n      <td>2.241</td>\n      <td>2.368</td>\n      <td>2.319</td>\n      <td>2.521</td>\n      <td>1.770</td>\n      <td>2.787</td>\n      <td>3.091</td>\n      <td>3.545</td>\n      <td>3.255</td>\n      <td>2.243</td>\n    </tr>\n    <tr>\n      <th>206</th>\n      <td>E7200</td>\n      <td>FC_TRA_RAIL_E_RED</td>\n      <td>KTOE</td>\n      <td>CZ</td>\n      <td>97.686</td>\n      <td>95.299</td>\n      <td>94.194</td>\n      <td>94.535</td>\n      <td>93.823</td>\n      <td>98.280</td>\n      <td>102.168</td>\n      <td>102.496</td>\n      <td>106.439</td>\n      <td>110.235</td>\n      <td>115.625</td>\n      <td>119.110</td>\n      <td>121.023</td>\n      <td>122.036</td>\n      <td>123.699</td>\n    </tr>\n    <tr>\n      <th>246</th>\n      <td>E7200</td>\n      <td>FC_TRA_ROAD_E_RED</td>\n      <td>KTOE</td>\n      <td>CZ</td>\n      <td>4.075</td>\n      <td>4.046</td>\n      <td>4.231</td>\n      <td>4.151</td>\n      <td>4.183</td>\n      <td>4.416</td>\n      <td>4.669</td>\n      <td>4.705</td>\n      <td>5.112</td>\n      <td>4.885</td>\n      <td>5.074</td>\n      <td>5.032</td>\n      <td>4.991</td>\n      <td>4.919</td>\n      <td>5.136</td>\n    </tr>\n    <tr>\n      <th>286</th>\n      <td>R5200</td>\n      <td>BIOFCON_LIM_TRA</td>\n      <td>KTOE</td>\n      <td>CZ</td>\n      <td>308.708</td>\n      <td>313.844</td>\n      <td>301.113</td>\n      <td>296.503</td>\n      <td>316.757</td>\n      <td>277.109</td>\n      <td>275.270</td>\n      <td>0.000</td>\n      <td>NaN</td>\n      <td>NaN</td>\n      <td>NaN</td>\n      <td>NaN</td>\n      <td>NaN</td>\n      <td>NaN</td>\n      <td>NaN</td>\n    </tr>\n    <tr>\n      <th>326</th>\n      <td>R5200</td>\n      <td>BIOF_FS_SHR</td>\n      <td>PC</td>\n      <td>CZ</td>\n      <td>4.767</td>\n      <td>4.895</td>\n      <td>4.829</td>\n      <td>4.947</td>\n      <td>5.494</td>\n      <td>4.970</td>\n      <td>4.895</td>\n      <td>0.000</td>\n      <td>NaN</td>\n      <td>NaN</td>\n      <td>NaN</td>\n      <td>NaN</td>\n      <td>NaN</td>\n      <td>NaN</td>\n      <td>NaN</td>\n    </tr>\n    <tr>\n      <th>366</th>\n      <td>R5200</td>\n      <td>FC_TRA_OTH_E_RED</td>\n      <td>KTOE</td>\n      <td>CZ</td>\n      <td>0.000</td>\n      <td>0.000</td>\n      <td>0.000</td>\n      <td>0.000</td>\n      <td>0.000</td>\n      <td>0.000</td>\n      <td>0.000</td>\n      <td>0.000</td>\n      <td>0.000</td>\n      <td>0.000</td>\n      <td>0.000</td>\n      <td>0.000</td>\n      <td>0.000</td>\n      <td>0.000</td>\n      <td>0.000</td>\n    </tr>\n    <tr>\n      <th>406</th>\n      <td>R5200</td>\n      <td>FC_TRA_RAIL_E_RED</td>\n      <td>KTOE</td>\n      <td>CZ</td>\n      <td>0.000</td>\n      <td>0.000</td>\n      <td>0.000</td>\n      <td>0.000</td>\n      <td>0.000</td>\n      <td>0.000</td>\n      <td>0.000</td>\n      <td>0.000</td>\n      <td>0.000</td>\n      <td>0.000</td>\n      <td>0.000</td>\n      <td>0.000</td>\n      <td>0.000</td>\n      <td>0.000</td>\n      <td>0.000</td>\n    </tr>\n    <tr>\n      <th>446</th>\n      <td>R5200</td>\n      <td>FC_TRA_ROAD_E_RED</td>\n      <td>KTOE</td>\n      <td>CZ</td>\n      <td>308.708</td>\n      <td>313.844</td>\n      <td>301.113</td>\n      <td>296.503</td>\n      <td>316.757</td>\n      <td>277.109</td>\n      <td>275.270</td>\n      <td>300.110</td>\n      <td>231.251</td>\n      <td>194.779</td>\n      <td>109.941</td>\n      <td>0.000</td>\n      <td>0.000</td>\n      <td>0.000</td>\n      <td>0.000</td>\n    </tr>\n    <tr>\n      <th>486</th>\n      <td>R5200</td>\n      <td>LIM_TT</td>\n      <td>KTOE</td>\n      <td>CZ</td>\n      <td>453.288</td>\n      <td>448.784</td>\n      <td>436.498</td>\n      <td>419.575</td>\n      <td>403.608</td>\n      <td>390.293</td>\n      <td>393.655</td>\n      <td>400.782</td>\n      <td>NaN</td>\n      <td>NaN</td>\n      <td>NaN</td>\n      <td>NaN</td>\n      <td>NaN</td>\n      <td>NaN</td>\n      <td>NaN</td>\n    </tr>\n    <tr>\n      <th>526</th>\n      <td>R5250S</td>\n      <td>FC_TRA_E_RED</td>\n      <td>KTOE</td>\n      <td>CZ</td>\n      <td>308.708</td>\n      <td>313.844</td>\n      <td>301.113</td>\n      <td>296.503</td>\n      <td>316.757</td>\n      <td>277.109</td>\n      <td>275.270</td>\n      <td>0.000</td>\n      <td>231.251</td>\n      <td>194.779</td>\n      <td>109.941</td>\n      <td>0.000</td>\n      <td>0.000</td>\n      <td>0.000</td>\n      <td>0.000</td>\n    </tr>\n    <tr>\n      <th>566</th>\n      <td>R5251S</td>\n      <td>FC_TRA_E_RED</td>\n      <td>KTOE</td>\n      <td>CZ</td>\n      <td>0.000</td>\n      <td>0.000</td>\n      <td>0.000</td>\n      <td>0.000</td>\n      <td>0.000</td>\n      <td>0.000</td>\n      <td>0.000</td>\n      <td>0.000</td>\n      <td>0.000</td>\n      <td>0.000</td>\n      <td>0.000</td>\n      <td>0.000</td>\n      <td>0.000</td>\n      <td>0.000</td>\n      <td>0.000</td>\n    </tr>\n    <tr>\n      <th>606</th>\n      <td>R5252S</td>\n      <td>FC_TRA_E_RED</td>\n      <td>KTOE</td>\n      <td>CZ</td>\n      <td>0.000</td>\n      <td>0.000</td>\n      <td>0.000</td>\n      <td>0.000</td>\n      <td>0.000</td>\n      <td>0.000</td>\n      <td>0.000</td>\n      <td>0.000</td>\n      <td>NaN</td>\n      <td>NaN</td>\n      <td>NaN</td>\n      <td>NaN</td>\n      <td>NaN</td>\n      <td>NaN</td>\n      <td>NaN</td>\n    </tr>\n    <tr>\n      <th>646</th>\n      <td>R5253S</td>\n      <td>FC_TRA_E_RED</td>\n      <td>KTOE</td>\n      <td>CZ</td>\n      <td>0.000</td>\n      <td>0.000</td>\n      <td>0.000</td>\n      <td>0.000</td>\n      <td>0.000</td>\n      <td>0.000</td>\n      <td>0.000</td>\n      <td>0.000</td>\n      <td>NaN</td>\n      <td>NaN</td>\n      <td>NaN</td>\n      <td>NaN</td>\n      <td>NaN</td>\n      <td>NaN</td>\n      <td>NaN</td>\n    </tr>\n    <tr>\n      <th>686</th>\n      <td>R5254S</td>\n      <td>FC_TRA_E_RED</td>\n      <td>KTOE</td>\n      <td>CZ</td>\n      <td>0.000</td>\n      <td>0.000</td>\n      <td>0.000</td>\n      <td>0.000</td>\n      <td>0.000</td>\n      <td>0.000</td>\n      <td>0.000</td>\n      <td>0.000</td>\n      <td>NaN</td>\n      <td>NaN</td>\n      <td>NaN</td>\n      <td>NaN</td>\n      <td>NaN</td>\n      <td>NaN</td>\n      <td>NaN</td>\n    </tr>\n    <tr>\n      <th>726</th>\n      <td>R5255S</td>\n      <td>FC_TRA_E_RED</td>\n      <td>KTOE</td>\n      <td>CZ</td>\n      <td>0.000</td>\n      <td>0.000</td>\n      <td>0.000</td>\n      <td>0.000</td>\n      <td>0.000</td>\n      <td>0.000</td>\n      <td>0.000</td>\n      <td>0.000</td>\n      <td>NaN</td>\n      <td>NaN</td>\n      <td>NaN</td>\n      <td>NaN</td>\n      <td>NaN</td>\n      <td>NaN</td>\n      <td>NaN</td>\n    </tr>\n    <tr>\n      <th>766</th>\n      <td>R5256S</td>\n      <td>FC_TRA_E_RED</td>\n      <td>KTOE</td>\n      <td>CZ</td>\n      <td>0.000</td>\n      <td>0.000</td>\n      <td>0.000</td>\n      <td>0.000</td>\n      <td>0.000</td>\n      <td>0.000</td>\n      <td>0.000</td>\n      <td>0.000</td>\n      <td>NaN</td>\n      <td>NaN</td>\n      <td>NaN</td>\n      <td>NaN</td>\n      <td>NaN</td>\n      <td>NaN</td>\n      <td>NaN</td>\n    </tr>\n    <tr>\n      <th>806</th>\n      <td>R5257S</td>\n      <td>FC_TRA_E_RED</td>\n      <td>KTOE</td>\n      <td>CZ</td>\n      <td>0.000</td>\n      <td>0.000</td>\n      <td>0.000</td>\n      <td>0.000</td>\n      <td>0.000</td>\n      <td>0.000</td>\n      <td>0.000</td>\n      <td>0.000</td>\n      <td>NaN</td>\n      <td>NaN</td>\n      <td>NaN</td>\n      <td>NaN</td>\n      <td>NaN</td>\n      <td>NaN</td>\n      <td>NaN</td>\n    </tr>\n    <tr>\n      <th>846</th>\n      <td>R5258S</td>\n      <td>FC_TRA_E_RED</td>\n      <td>KTOE</td>\n      <td>CZ</td>\n      <td>0.000</td>\n      <td>0.000</td>\n      <td>0.000</td>\n      <td>0.000</td>\n      <td>0.000</td>\n      <td>0.000</td>\n      <td>0.000</td>\n      <td>0.000</td>\n      <td>NaN</td>\n      <td>NaN</td>\n      <td>NaN</td>\n      <td>NaN</td>\n      <td>NaN</td>\n      <td>NaN</td>\n      <td>NaN</td>\n    </tr>\n    <tr>\n      <th>886</th>\n      <td>R5259S</td>\n      <td>FC_TRA_E_RED</td>\n      <td>KTOE</td>\n      <td>CZ</td>\n      <td>0.000</td>\n      <td>0.000</td>\n      <td>0.000</td>\n      <td>0.000</td>\n      <td>0.000</td>\n      <td>0.000</td>\n      <td>0.000</td>\n      <td>0.000</td>\n      <td>NaN</td>\n      <td>NaN</td>\n      <td>NaN</td>\n      <td>NaN</td>\n      <td>NaN</td>\n      <td>NaN</td>\n      <td>NaN</td>\n    </tr>\n    <tr>\n      <th>926</th>\n      <td>R5260S</td>\n      <td>FC_TRA_E_RED</td>\n      <td>KTOE</td>\n      <td>CZ</td>\n      <td>0.000</td>\n      <td>0.000</td>\n      <td>0.000</td>\n      <td>0.000</td>\n      <td>0.000</td>\n      <td>0.000</td>\n      <td>0.000</td>\n      <td>0.000</td>\n      <td>NaN</td>\n      <td>NaN</td>\n      <td>NaN</td>\n      <td>NaN</td>\n      <td>NaN</td>\n      <td>NaN</td>\n      <td>NaN</td>\n    </tr>\n    <tr>\n      <th>966</th>\n      <td>R5261S</td>\n      <td>FC_TRA_E_RED</td>\n      <td>KTOE</td>\n      <td>CZ</td>\n      <td>0.000</td>\n      <td>0.000</td>\n      <td>0.000</td>\n      <td>0.000</td>\n      <td>0.000</td>\n      <td>0.000</td>\n      <td>0.000</td>\n      <td>0.000</td>\n      <td>NaN</td>\n      <td>NaN</td>\n      <td>NaN</td>\n      <td>NaN</td>\n      <td>NaN</td>\n      <td>NaN</td>\n      <td>NaN</td>\n    </tr>\n    <tr>\n      <th>1006</th>\n      <td>R5262S</td>\n      <td>FC_TRA_E_RED</td>\n      <td>KTOE</td>\n      <td>CZ</td>\n      <td>0.000</td>\n      <td>0.000</td>\n      <td>0.000</td>\n      <td>0.000</td>\n      <td>0.000</td>\n      <td>0.000</td>\n      <td>0.000</td>\n      <td>0.000</td>\n      <td>NaN</td>\n      <td>NaN</td>\n      <td>NaN</td>\n      <td>NaN</td>\n      <td>NaN</td>\n      <td>NaN</td>\n      <td>NaN</td>\n    </tr>\n    <tr>\n      <th>1046</th>\n      <td>R5263S</td>\n      <td>FC_TRA_E_RED</td>\n      <td>KTOE</td>\n      <td>CZ</td>\n      <td>0.000</td>\n      <td>0.000</td>\n      <td>0.000</td>\n      <td>0.000</td>\n      <td>0.000</td>\n      <td>0.000</td>\n      <td>0.000</td>\n      <td>0.000</td>\n      <td>NaN</td>\n      <td>NaN</td>\n      <td>NaN</td>\n      <td>NaN</td>\n      <td>NaN</td>\n      <td>NaN</td>\n      <td>NaN</td>\n    </tr>\n    <tr>\n      <th>1086</th>\n      <td>R5264S</td>\n      <td>FC_TRA_E_RED</td>\n      <td>KTOE</td>\n      <td>CZ</td>\n      <td>0.000</td>\n      <td>0.000</td>\n      <td>0.000</td>\n      <td>0.000</td>\n      <td>0.000</td>\n      <td>0.000</td>\n      <td>0.000</td>\n      <td>0.000</td>\n      <td>NaN</td>\n      <td>NaN</td>\n      <td>NaN</td>\n      <td>NaN</td>\n      <td>NaN</td>\n      <td>NaN</td>\n      <td>NaN</td>\n    </tr>\n    <tr>\n      <th>1126</th>\n      <td>R5265S</td>\n      <td>FC_TRA_E_RED</td>\n      <td>KTOE</td>\n      <td>CZ</td>\n      <td>0.000</td>\n      <td>0.000</td>\n      <td>0.000</td>\n      <td>0.000</td>\n      <td>0.000</td>\n      <td>0.000</td>\n      <td>0.000</td>\n      <td>0.000</td>\n      <td>NaN</td>\n      <td>NaN</td>\n      <td>NaN</td>\n      <td>NaN</td>\n      <td>NaN</td>\n      <td>NaN</td>\n      <td>NaN</td>\n    </tr>\n    <tr>\n      <th>1166</th>\n      <td>R5266S</td>\n      <td>FC_TRA_E_RED</td>\n      <td>KTOE</td>\n      <td>CZ</td>\n      <td>0.000</td>\n      <td>0.000</td>\n      <td>0.000</td>\n      <td>0.000</td>\n      <td>0.000</td>\n      <td>0.000</td>\n      <td>0.000</td>\n      <td>0.000</td>\n      <td>NaN</td>\n      <td>NaN</td>\n      <td>NaN</td>\n      <td>NaN</td>\n      <td>NaN</td>\n      <td>NaN</td>\n      <td>NaN</td>\n    </tr>\n    <tr>\n      <th>1206</th>\n      <td>R5267S</td>\n      <td>FC_TRA_E_RED</td>\n      <td>KTOE</td>\n      <td>CZ</td>\n      <td>0.000</td>\n      <td>0.000</td>\n      <td>0.000</td>\n      <td>0.000</td>\n      <td>0.000</td>\n      <td>0.000</td>\n      <td>0.000</td>\n      <td>0.000</td>\n      <td>NaN</td>\n      <td>NaN</td>\n      <td>NaN</td>\n      <td>NaN</td>\n      <td>NaN</td>\n      <td>NaN</td>\n      <td>NaN</td>\n    </tr>\n    <tr>\n      <th>1246</th>\n      <td>R5268S</td>\n      <td>FC_TRA_E_RED</td>\n      <td>KTOE</td>\n      <td>CZ</td>\n      <td>0.000</td>\n      <td>0.000</td>\n      <td>0.000</td>\n      <td>0.000</td>\n      <td>0.000</td>\n      <td>0.000</td>\n      <td>0.000</td>\n      <td>0.000</td>\n      <td>NaN</td>\n      <td>NaN</td>\n      <td>NaN</td>\n      <td>NaN</td>\n      <td>NaN</td>\n      <td>NaN</td>\n      <td>NaN</td>\n    </tr>\n    <tr>\n      <th>1286</th>\n      <td>R5269S</td>\n      <td>FC_TRA_E_RED</td>\n      <td>KTOE</td>\n      <td>CZ</td>\n      <td>0.000</td>\n      <td>0.000</td>\n      <td>0.000</td>\n      <td>0.000</td>\n      <td>0.000</td>\n      <td>0.000</td>\n      <td>0.000</td>\n      <td>0.000</td>\n      <td>NaN</td>\n      <td>NaN</td>\n      <td>NaN</td>\n      <td>NaN</td>\n      <td>NaN</td>\n      <td>NaN</td>\n      <td>NaN</td>\n    </tr>\n    <tr>\n      <th>1326</th>\n      <td>R5270S</td>\n      <td>FC_TRA_E_RED</td>\n      <td>KTOE</td>\n      <td>CZ</td>\n      <td>0.000</td>\n      <td>0.000</td>\n      <td>0.000</td>\n      <td>0.000</td>\n      <td>0.000</td>\n      <td>0.000</td>\n      <td>0.000</td>\n      <td>0.000</td>\n      <td>NaN</td>\n      <td>NaN</td>\n      <td>NaN</td>\n      <td>NaN</td>\n      <td>NaN</td>\n      <td>NaN</td>\n      <td>NaN</td>\n    </tr>\n    <tr>\n      <th>1366</th>\n      <td>R5271S</td>\n      <td>FC_TRA_E_RED</td>\n      <td>KTOE</td>\n      <td>CZ</td>\n      <td>0.000</td>\n      <td>0.000</td>\n      <td>0.000</td>\n      <td>0.000</td>\n      <td>0.000</td>\n      <td>0.000</td>\n      <td>0.000</td>\n      <td>0.000</td>\n      <td>NaN</td>\n      <td>NaN</td>\n      <td>NaN</td>\n      <td>NaN</td>\n      <td>NaN</td>\n      <td>NaN</td>\n      <td>NaN</td>\n    </tr>\n    <tr>\n      <th>1406</th>\n      <td>R5272S</td>\n      <td>FC_TRA_E_RED</td>\n      <td>KTOE</td>\n      <td>CZ</td>\n      <td>0.000</td>\n      <td>0.000</td>\n      <td>0.000</td>\n      <td>0.000</td>\n      <td>0.000</td>\n      <td>0.000</td>\n      <td>0.000</td>\n      <td>0.000</td>\n      <td>NaN</td>\n      <td>NaN</td>\n      <td>NaN</td>\n      <td>NaN</td>\n      <td>NaN</td>\n      <td>NaN</td>\n      <td>NaN</td>\n    </tr>\n    <tr>\n      <th>1446</th>\n      <td>R5273S</td>\n      <td>FC_TRA_E_RED</td>\n      <td>KTOE</td>\n      <td>CZ</td>\n      <td>0.000</td>\n      <td>0.000</td>\n      <td>0.000</td>\n      <td>0.000</td>\n      <td>0.000</td>\n      <td>0.000</td>\n      <td>0.000</td>\n      <td>0.000</td>\n      <td>NaN</td>\n      <td>NaN</td>\n      <td>NaN</td>\n      <td>NaN</td>\n      <td>NaN</td>\n      <td>NaN</td>\n      <td>NaN</td>\n    </tr>\n    <tr>\n      <th>1486</th>\n      <td>R5274S</td>\n      <td>FC_TRA_E_RED</td>\n      <td>KTOE</td>\n      <td>CZ</td>\n      <td>0.000</td>\n      <td>0.000</td>\n      <td>0.000</td>\n      <td>0.000</td>\n      <td>0.000</td>\n      <td>0.000</td>\n      <td>0.000</td>\n      <td>0.000</td>\n      <td>NaN</td>\n      <td>NaN</td>\n      <td>NaN</td>\n      <td>NaN</td>\n      <td>NaN</td>\n      <td>NaN</td>\n      <td>NaN</td>\n    </tr>\n    <tr>\n      <th>1526</th>\n      <td>R5275S</td>\n      <td>FC_TRA_E_RED</td>\n      <td>KTOE</td>\n      <td>CZ</td>\n      <td>0.000</td>\n      <td>0.000</td>\n      <td>0.000</td>\n      <td>0.000</td>\n      <td>0.000</td>\n      <td>0.000</td>\n      <td>0.000</td>\n      <td>0.000</td>\n      <td>NaN</td>\n      <td>NaN</td>\n      <td>NaN</td>\n      <td>NaN</td>\n      <td>NaN</td>\n      <td>NaN</td>\n      <td>NaN</td>\n    </tr>\n    <tr>\n      <th>1566</th>\n      <td>R5276S</td>\n      <td>FC_TRA_E_RED</td>\n      <td>KTOE</td>\n      <td>CZ</td>\n      <td>308.708</td>\n      <td>313.844</td>\n      <td>301.113</td>\n      <td>296.503</td>\n      <td>316.757</td>\n      <td>277.109</td>\n      <td>275.270</td>\n      <td>0.000</td>\n      <td>NaN</td>\n      <td>NaN</td>\n      <td>NaN</td>\n      <td>NaN</td>\n      <td>NaN</td>\n      <td>NaN</td>\n      <td>NaN</td>\n    </tr>\n    <tr>\n      <th>1606</th>\n      <td>R5277S</td>\n      <td>FC_TRA_E_RED</td>\n      <td>KTOE</td>\n      <td>CZ</td>\n      <td>0.000</td>\n      <td>0.000</td>\n      <td>0.000</td>\n      <td>0.000</td>\n      <td>0.000</td>\n      <td>0.000</td>\n      <td>0.000</td>\n      <td>0.000</td>\n      <td>NaN</td>\n      <td>NaN</td>\n      <td>NaN</td>\n      <td>NaN</td>\n      <td>NaN</td>\n      <td>NaN</td>\n      <td>NaN</td>\n    </tr>\n    <tr>\n      <th>1646</th>\n      <td>R5278S</td>\n      <td>FC_TRA_E_RED</td>\n      <td>KTOE</td>\n      <td>CZ</td>\n      <td>0.000</td>\n      <td>0.000</td>\n      <td>0.000</td>\n      <td>0.000</td>\n      <td>0.000</td>\n      <td>0.000</td>\n      <td>0.000</td>\n      <td>0.000</td>\n      <td>NaN</td>\n      <td>NaN</td>\n      <td>NaN</td>\n      <td>NaN</td>\n      <td>NaN</td>\n      <td>NaN</td>\n      <td>NaN</td>\n    </tr>\n    <tr>\n      <th>1686</th>\n      <td>R5279S</td>\n      <td>FC_TRA_E_RED</td>\n      <td>KTOE</td>\n      <td>CZ</td>\n      <td>0.000</td>\n      <td>0.000</td>\n      <td>0.000</td>\n      <td>0.000</td>\n      <td>0.000</td>\n      <td>0.000</td>\n      <td>0.000</td>\n      <td>0.000</td>\n      <td>NaN</td>\n      <td>NaN</td>\n      <td>NaN</td>\n      <td>NaN</td>\n      <td>NaN</td>\n      <td>NaN</td>\n      <td>NaN</td>\n    </tr>\n    <tr>\n      <th>1726</th>\n      <td>R5300</td>\n      <td>FC_TRA_OTH_E_RED</td>\n      <td>KTOE</td>\n      <td>CZ</td>\n      <td>0.000</td>\n      <td>0.000</td>\n      <td>0.000</td>\n      <td>0.000</td>\n      <td>0.000</td>\n      <td>0.000</td>\n      <td>0.000</td>\n      <td>0.000</td>\n      <td>0.000</td>\n      <td>0.000</td>\n      <td>0.000</td>\n      <td>0.000</td>\n      <td>0.000</td>\n      <td>0.000</td>\n      <td>0.000</td>\n    </tr>\n    <tr>\n      <th>1766</th>\n      <td>R5300</td>\n      <td>FC_TRA_RAIL_E_RED</td>\n      <td>KTOE</td>\n      <td>CZ</td>\n      <td>0.000</td>\n      <td>0.000</td>\n      <td>0.000</td>\n      <td>0.000</td>\n      <td>0.000</td>\n      <td>0.000</td>\n      <td>0.000</td>\n      <td>0.000</td>\n      <td>0.000</td>\n      <td>0.000</td>\n      <td>0.000</td>\n      <td>0.000</td>\n      <td>0.000</td>\n      <td>0.000</td>\n      <td>0.000</td>\n    </tr>\n    <tr>\n      <th>1806</th>\n      <td>R5300</td>\n      <td>FC_TRA_ROAD_E_RED</td>\n      <td>KTOE</td>\n      <td>CZ</td>\n      <td>0.000</td>\n      <td>0.000</td>\n      <td>0.000</td>\n      <td>0.000</td>\n      <td>0.000</td>\n      <td>0.000</td>\n      <td>0.000</td>\n      <td>0.000</td>\n      <td>0.000</td>\n      <td>0.000</td>\n      <td>0.000</td>\n      <td>0.000</td>\n      <td>0.000</td>\n      <td>0.000</td>\n      <td>0.000</td>\n    </tr>\n    <tr>\n      <th>1846</th>\n      <td>RA000</td>\n      <td>GFC_TRA_E_MULTI</td>\n      <td>KTOE</td>\n      <td>CZ</td>\n      <td>424.543</td>\n      <td>424.190</td>\n      <td>405.081</td>\n      <td>391.794</td>\n      <td>403.422</td>\n      <td>359.321</td>\n      <td>351.403</td>\n      <td>73.589</td>\n      <td>298.293</td>\n      <td>259.504</td>\n      <td>174.407</td>\n      <td>63.957</td>\n      <td>62.450</td>\n      <td>62.805</td>\n      <td>63.603</td>\n    </tr>\n    <tr>\n      <th>1886</th>\n      <td>RA000</td>\n      <td>GFC_TRA_E_NMULTI</td>\n      <td>KTOE</td>\n      <td>CZ</td>\n      <td>354.194</td>\n      <td>357.122</td>\n      <td>341.457</td>\n      <td>333.650</td>\n      <td>350.484</td>\n      <td>309.059</td>\n      <td>304.844</td>\n      <td>28.571</td>\n      <td>257.247</td>\n      <td>219.849</td>\n      <td>135.036</td>\n      <td>24.960</td>\n      <td>24.440</td>\n      <td>24.562</td>\n      <td>24.726</td>\n    </tr>\n    <tr>\n      <th>1926</th>\n      <td>RA000</td>\n      <td>ST_MS_TRA</td>\n      <td>KTOE</td>\n      <td>CZ</td>\n      <td>0.000</td>\n      <td>0.000</td>\n      <td>0.000</td>\n      <td>0.000</td>\n      <td>0.000</td>\n      <td>0.000</td>\n      <td>0.000</td>\n      <td>0.000</td>\n      <td>0.000</td>\n      <td>0.000</td>\n      <td>0.000</td>\n      <td>0.000</td>\n      <td>0.000</td>\n      <td>0.000</td>\n      <td>0.000</td>\n    </tr>\n    <tr>\n      <th>1963</th>\n      <td>RHYD</td>\n      <td>FC_TRA_E_RED</td>\n      <td>KTOE</td>\n      <td>CZ</td>\n      <td>0.000</td>\n      <td>0.000</td>\n      <td>0.000</td>\n      <td>0.000</td>\n      <td>0.000</td>\n      <td>0.000</td>\n      <td>0.000</td>\n      <td>0.000</td>\n      <td>0.000</td>\n      <td>0.000</td>\n      <td>0.000</td>\n      <td>0.000</td>\n      <td>0.000</td>\n      <td>0.000</td>\n      <td>0.000</td>\n    </tr>\n    <tr>\n      <th>2003</th>\n      <td>RSYNF</td>\n      <td>FC_TRA_E_RED</td>\n      <td>KTOE</td>\n      <td>CZ</td>\n      <td>0.000</td>\n      <td>0.000</td>\n      <td>0.000</td>\n      <td>0.000</td>\n      <td>0.000</td>\n      <td>0.000</td>\n      <td>0.000</td>\n      <td>0.000</td>\n      <td>0.000</td>\n      <td>0.000</td>\n      <td>0.000</td>\n      <td>0.000</td>\n      <td>0.000</td>\n      <td>0.000</td>\n      <td>0.000</td>\n    </tr>\n    <tr>\n      <th>2043</th>\n      <td>TOTAL</td>\n      <td>GFC_TRA_E_MULTI</td>\n      <td>KTOE</td>\n      <td>CZ</td>\n      <td>6475.545</td>\n      <td>6411.198</td>\n      <td>6235.688</td>\n      <td>5993.933</td>\n      <td>5765.833</td>\n      <td>5575.618</td>\n      <td>5623.641</td>\n      <td>5725.462</td>\n      <td>5714.445</td>\n      <td>6017.866</td>\n      <td>6135.595</td>\n      <td>6100.961</td>\n      <td>5820.553</td>\n      <td>5716.855</td>\n      <td>5289.075</td>\n    </tr>\n    <tr>\n      <th>2083</th>\n      <td>TOTAL</td>\n      <td>GFC_TRA_E_NMULTI</td>\n      <td>KTOE</td>\n      <td>CZ</td>\n      <td>6412.237</td>\n      <td>6350.950</td>\n      <td>6178.871</td>\n      <td>5941.883</td>\n      <td>5718.520</td>\n      <td>5530.734</td>\n      <td>5582.139</td>\n      <td>5685.354</td>\n      <td>5678.059</td>\n      <td>5982.401</td>\n      <td>6100.348</td>\n      <td>6065.911</td>\n      <td>5786.309</td>\n      <td>5682.325</td>\n      <td>5254.074</td>\n    </tr>\n  </tbody>\n</table>\n</div>"
     },
     "metadata": {},
     "execution_count": 10
    }
   ],
   "source": [
    "cz = tr['geo'] == 'CZ'\n",
    "tr[cz]"
   ]
  },
  {
   "cell_type": "code",
   "execution_count": 11,
   "metadata": {},
   "outputs": [
    {
     "output_type": "execute_result",
     "data": {
      "text/plain": [
       "        siec            nrg_bal  unit geo      2018      2017      2016  \\\n",
       "46     E7100   FC_TRA_OTH_E_RED  KTOE  CZ     1.520     1.408     0.764   \n",
       "86     E7100  FC_TRA_RAIL_E_RED  KTOE  CZ    42.205    40.165    37.878   \n",
       "126    E7100  FC_TRA_ROAD_E_RED  KTOE  CZ     1.760     1.705     1.702   \n",
       "166    E7200   FC_TRA_OTH_E_RED  KTOE  CZ     3.518     3.340     1.901   \n",
       "206    E7200  FC_TRA_RAIL_E_RED  KTOE  CZ    97.686    95.299    94.194   \n",
       "246    E7200  FC_TRA_ROAD_E_RED  KTOE  CZ     4.075     4.046     4.231   \n",
       "446    R5200  FC_TRA_ROAD_E_RED  KTOE  CZ   308.708   313.844   301.113   \n",
       "526   R5250S       FC_TRA_E_RED  KTOE  CZ   308.708   313.844   301.113   \n",
       "1566  R5276S       FC_TRA_E_RED  KTOE  CZ   308.708   313.844   301.113   \n",
       "1846   RA000    GFC_TRA_E_MULTI  KTOE  CZ   424.543   424.190   405.081   \n",
       "1886   RA000   GFC_TRA_E_NMULTI  KTOE  CZ   354.194   357.122   341.457   \n",
       "2043   TOTAL    GFC_TRA_E_MULTI  KTOE  CZ  6475.545  6411.198  6235.688   \n",
       "2083   TOTAL   GFC_TRA_E_NMULTI  KTOE  CZ  6412.237  6350.950  6178.871   \n",
       "\n",
       "          2015      2014      2013      2012      2011      2010      2009  \\\n",
       "46       0.923     0.779     0.682     0.641     0.605     0.575     0.380   \n",
       "86      34.700    31.542    29.923    27.668    26.739    24.257    23.643   \n",
       "126      1.524     1.406     1.345     1.264     1.228     1.165     1.048   \n",
       "166      2.516     2.317     2.241     2.368     2.319     2.521     1.770   \n",
       "206     94.535    93.823    98.280   102.168   102.496   106.439   110.235   \n",
       "246      4.151     4.183     4.416     4.669     4.705     5.112     4.885   \n",
       "446    296.503   316.757   277.109   275.270   300.110   231.251   194.779   \n",
       "526    296.503   316.757   277.109   275.270     0.000   231.251   194.779   \n",
       "1566   296.503   316.757   277.109   275.270     0.000       NaN       NaN   \n",
       "1846   391.794   403.422   359.321   351.403    73.589   298.293   259.504   \n",
       "1886   333.650   350.484   309.059   304.844    28.571   257.247   219.849   \n",
       "2043  5993.933  5765.833  5575.618  5623.641  5725.462  5714.445  6017.866   \n",
       "2083  5941.883  5718.520  5530.734  5582.139  5685.354  5678.059  5982.401   \n",
       "\n",
       "          2008      2007      2006      2005      2004  \n",
       "46       0.566     0.606     0.669     0.614     0.423  \n",
       "86      23.498    23.366    22.829    23.020    23.334  \n",
       "126      1.031     0.987     0.942     0.928     0.969  \n",
       "166      2.787     3.091     3.545     3.255     2.243  \n",
       "206    115.625   119.110   121.023   122.036   123.699  \n",
       "246      5.074     5.032     4.991     4.919     5.136  \n",
       "446    109.941     0.000     0.000     0.000     0.000  \n",
       "526    109.941     0.000     0.000     0.000     0.000  \n",
       "1566       NaN       NaN       NaN       NaN       NaN  \n",
       "1846   174.407    63.957    62.450    62.805    63.603  \n",
       "1886   135.036    24.960    24.440    24.562    24.726  \n",
       "2043  6135.595  6100.961  5820.553  5716.855  5289.075  \n",
       "2083  6100.348  6065.911  5786.309  5682.325  5254.074  "
      ],
      "text/html": "<div>\n<style scoped>\n    .dataframe tbody tr th:only-of-type {\n        vertical-align: middle;\n    }\n\n    .dataframe tbody tr th {\n        vertical-align: top;\n    }\n\n    .dataframe thead th {\n        text-align: right;\n    }\n</style>\n<table border=\"1\" class=\"dataframe\">\n  <thead>\n    <tr style=\"text-align: right;\">\n      <th></th>\n      <th>siec</th>\n      <th>nrg_bal</th>\n      <th>unit</th>\n      <th>geo</th>\n      <th>2018</th>\n      <th>2017</th>\n      <th>2016</th>\n      <th>2015</th>\n      <th>2014</th>\n      <th>2013</th>\n      <th>2012</th>\n      <th>2011</th>\n      <th>2010</th>\n      <th>2009</th>\n      <th>2008</th>\n      <th>2007</th>\n      <th>2006</th>\n      <th>2005</th>\n      <th>2004</th>\n    </tr>\n  </thead>\n  <tbody>\n    <tr>\n      <th>46</th>\n      <td>E7100</td>\n      <td>FC_TRA_OTH_E_RED</td>\n      <td>KTOE</td>\n      <td>CZ</td>\n      <td>1.520</td>\n      <td>1.408</td>\n      <td>0.764</td>\n      <td>0.923</td>\n      <td>0.779</td>\n      <td>0.682</td>\n      <td>0.641</td>\n      <td>0.605</td>\n      <td>0.575</td>\n      <td>0.380</td>\n      <td>0.566</td>\n      <td>0.606</td>\n      <td>0.669</td>\n      <td>0.614</td>\n      <td>0.423</td>\n    </tr>\n    <tr>\n      <th>86</th>\n      <td>E7100</td>\n      <td>FC_TRA_RAIL_E_RED</td>\n      <td>KTOE</td>\n      <td>CZ</td>\n      <td>42.205</td>\n      <td>40.165</td>\n      <td>37.878</td>\n      <td>34.700</td>\n      <td>31.542</td>\n      <td>29.923</td>\n      <td>27.668</td>\n      <td>26.739</td>\n      <td>24.257</td>\n      <td>23.643</td>\n      <td>23.498</td>\n      <td>23.366</td>\n      <td>22.829</td>\n      <td>23.020</td>\n      <td>23.334</td>\n    </tr>\n    <tr>\n      <th>126</th>\n      <td>E7100</td>\n      <td>FC_TRA_ROAD_E_RED</td>\n      <td>KTOE</td>\n      <td>CZ</td>\n      <td>1.760</td>\n      <td>1.705</td>\n      <td>1.702</td>\n      <td>1.524</td>\n      <td>1.406</td>\n      <td>1.345</td>\n      <td>1.264</td>\n      <td>1.228</td>\n      <td>1.165</td>\n      <td>1.048</td>\n      <td>1.031</td>\n      <td>0.987</td>\n      <td>0.942</td>\n      <td>0.928</td>\n      <td>0.969</td>\n    </tr>\n    <tr>\n      <th>166</th>\n      <td>E7200</td>\n      <td>FC_TRA_OTH_E_RED</td>\n      <td>KTOE</td>\n      <td>CZ</td>\n      <td>3.518</td>\n      <td>3.340</td>\n      <td>1.901</td>\n      <td>2.516</td>\n      <td>2.317</td>\n      <td>2.241</td>\n      <td>2.368</td>\n      <td>2.319</td>\n      <td>2.521</td>\n      <td>1.770</td>\n      <td>2.787</td>\n      <td>3.091</td>\n      <td>3.545</td>\n      <td>3.255</td>\n      <td>2.243</td>\n    </tr>\n    <tr>\n      <th>206</th>\n      <td>E7200</td>\n      <td>FC_TRA_RAIL_E_RED</td>\n      <td>KTOE</td>\n      <td>CZ</td>\n      <td>97.686</td>\n      <td>95.299</td>\n      <td>94.194</td>\n      <td>94.535</td>\n      <td>93.823</td>\n      <td>98.280</td>\n      <td>102.168</td>\n      <td>102.496</td>\n      <td>106.439</td>\n      <td>110.235</td>\n      <td>115.625</td>\n      <td>119.110</td>\n      <td>121.023</td>\n      <td>122.036</td>\n      <td>123.699</td>\n    </tr>\n    <tr>\n      <th>246</th>\n      <td>E7200</td>\n      <td>FC_TRA_ROAD_E_RED</td>\n      <td>KTOE</td>\n      <td>CZ</td>\n      <td>4.075</td>\n      <td>4.046</td>\n      <td>4.231</td>\n      <td>4.151</td>\n      <td>4.183</td>\n      <td>4.416</td>\n      <td>4.669</td>\n      <td>4.705</td>\n      <td>5.112</td>\n      <td>4.885</td>\n      <td>5.074</td>\n      <td>5.032</td>\n      <td>4.991</td>\n      <td>4.919</td>\n      <td>5.136</td>\n    </tr>\n    <tr>\n      <th>446</th>\n      <td>R5200</td>\n      <td>FC_TRA_ROAD_E_RED</td>\n      <td>KTOE</td>\n      <td>CZ</td>\n      <td>308.708</td>\n      <td>313.844</td>\n      <td>301.113</td>\n      <td>296.503</td>\n      <td>316.757</td>\n      <td>277.109</td>\n      <td>275.270</td>\n      <td>300.110</td>\n      <td>231.251</td>\n      <td>194.779</td>\n      <td>109.941</td>\n      <td>0.000</td>\n      <td>0.000</td>\n      <td>0.000</td>\n      <td>0.000</td>\n    </tr>\n    <tr>\n      <th>526</th>\n      <td>R5250S</td>\n      <td>FC_TRA_E_RED</td>\n      <td>KTOE</td>\n      <td>CZ</td>\n      <td>308.708</td>\n      <td>313.844</td>\n      <td>301.113</td>\n      <td>296.503</td>\n      <td>316.757</td>\n      <td>277.109</td>\n      <td>275.270</td>\n      <td>0.000</td>\n      <td>231.251</td>\n      <td>194.779</td>\n      <td>109.941</td>\n      <td>0.000</td>\n      <td>0.000</td>\n      <td>0.000</td>\n      <td>0.000</td>\n    </tr>\n    <tr>\n      <th>1566</th>\n      <td>R5276S</td>\n      <td>FC_TRA_E_RED</td>\n      <td>KTOE</td>\n      <td>CZ</td>\n      <td>308.708</td>\n      <td>313.844</td>\n      <td>301.113</td>\n      <td>296.503</td>\n      <td>316.757</td>\n      <td>277.109</td>\n      <td>275.270</td>\n      <td>0.000</td>\n      <td>NaN</td>\n      <td>NaN</td>\n      <td>NaN</td>\n      <td>NaN</td>\n      <td>NaN</td>\n      <td>NaN</td>\n      <td>NaN</td>\n    </tr>\n    <tr>\n      <th>1846</th>\n      <td>RA000</td>\n      <td>GFC_TRA_E_MULTI</td>\n      <td>KTOE</td>\n      <td>CZ</td>\n      <td>424.543</td>\n      <td>424.190</td>\n      <td>405.081</td>\n      <td>391.794</td>\n      <td>403.422</td>\n      <td>359.321</td>\n      <td>351.403</td>\n      <td>73.589</td>\n      <td>298.293</td>\n      <td>259.504</td>\n      <td>174.407</td>\n      <td>63.957</td>\n      <td>62.450</td>\n      <td>62.805</td>\n      <td>63.603</td>\n    </tr>\n    <tr>\n      <th>1886</th>\n      <td>RA000</td>\n      <td>GFC_TRA_E_NMULTI</td>\n      <td>KTOE</td>\n      <td>CZ</td>\n      <td>354.194</td>\n      <td>357.122</td>\n      <td>341.457</td>\n      <td>333.650</td>\n      <td>350.484</td>\n      <td>309.059</td>\n      <td>304.844</td>\n      <td>28.571</td>\n      <td>257.247</td>\n      <td>219.849</td>\n      <td>135.036</td>\n      <td>24.960</td>\n      <td>24.440</td>\n      <td>24.562</td>\n      <td>24.726</td>\n    </tr>\n    <tr>\n      <th>2043</th>\n      <td>TOTAL</td>\n      <td>GFC_TRA_E_MULTI</td>\n      <td>KTOE</td>\n      <td>CZ</td>\n      <td>6475.545</td>\n      <td>6411.198</td>\n      <td>6235.688</td>\n      <td>5993.933</td>\n      <td>5765.833</td>\n      <td>5575.618</td>\n      <td>5623.641</td>\n      <td>5725.462</td>\n      <td>5714.445</td>\n      <td>6017.866</td>\n      <td>6135.595</td>\n      <td>6100.961</td>\n      <td>5820.553</td>\n      <td>5716.855</td>\n      <td>5289.075</td>\n    </tr>\n    <tr>\n      <th>2083</th>\n      <td>TOTAL</td>\n      <td>GFC_TRA_E_NMULTI</td>\n      <td>KTOE</td>\n      <td>CZ</td>\n      <td>6412.237</td>\n      <td>6350.950</td>\n      <td>6178.871</td>\n      <td>5941.883</td>\n      <td>5718.520</td>\n      <td>5530.734</td>\n      <td>5582.139</td>\n      <td>5685.354</td>\n      <td>5678.059</td>\n      <td>5982.401</td>\n      <td>6100.348</td>\n      <td>6065.911</td>\n      <td>5786.309</td>\n      <td>5682.325</td>\n      <td>5254.074</td>\n    </tr>\n  </tbody>\n</table>\n</div>"
     },
     "metadata": {},
     "execution_count": 11
    }
   ],
   "source": [
    "fc = tr['nrg_bal'].str.contains('FC_TRA_')\n",
    "data = tr[2017] > 0\n",
    "bio = tr['siec'].str.contains('R5200')\n",
    "\n",
    "tr[cz & fc & data]"
   ]
  },
  {
   "cell_type": "code",
   "execution_count": 12,
   "metadata": {},
   "outputs": [
    {
     "output_type": "execute_result",
     "data": {
      "text/plain": [
       "      siec            nrg_bal  unit geo     2018     2017     2016     2015  \\\n",
       "446  R5200  FC_TRA_ROAD_E_RED  KTOE  CZ  308.708  313.844  301.113  296.503   \n",
       "\n",
       "        2014     2013    2012    2011     2010     2009     2008  2007  2006  \\\n",
       "446  316.757  277.109  275.27  300.11  231.251  194.779  109.941   0.0   0.0   \n",
       "\n",
       "     2005  2004  \n",
       "446   0.0   0.0  "
      ],
      "text/html": "<div>\n<style scoped>\n    .dataframe tbody tr th:only-of-type {\n        vertical-align: middle;\n    }\n\n    .dataframe tbody tr th {\n        vertical-align: top;\n    }\n\n    .dataframe thead th {\n        text-align: right;\n    }\n</style>\n<table border=\"1\" class=\"dataframe\">\n  <thead>\n    <tr style=\"text-align: right;\">\n      <th></th>\n      <th>siec</th>\n      <th>nrg_bal</th>\n      <th>unit</th>\n      <th>geo</th>\n      <th>2018</th>\n      <th>2017</th>\n      <th>2016</th>\n      <th>2015</th>\n      <th>2014</th>\n      <th>2013</th>\n      <th>2012</th>\n      <th>2011</th>\n      <th>2010</th>\n      <th>2009</th>\n      <th>2008</th>\n      <th>2007</th>\n      <th>2006</th>\n      <th>2005</th>\n      <th>2004</th>\n    </tr>\n  </thead>\n  <tbody>\n    <tr>\n      <th>446</th>\n      <td>R5200</td>\n      <td>FC_TRA_ROAD_E_RED</td>\n      <td>KTOE</td>\n      <td>CZ</td>\n      <td>308.708</td>\n      <td>313.844</td>\n      <td>301.113</td>\n      <td>296.503</td>\n      <td>316.757</td>\n      <td>277.109</td>\n      <td>275.27</td>\n      <td>300.11</td>\n      <td>231.251</td>\n      <td>194.779</td>\n      <td>109.941</td>\n      <td>0.0</td>\n      <td>0.0</td>\n      <td>0.0</td>\n      <td>0.0</td>\n    </tr>\n  </tbody>\n</table>\n</div>"
     },
     "metadata": {},
     "execution_count": 12
    }
   ],
   "source": [
    "tr[cz & fc & data & bio]"
   ]
  },
  {
   "cell_type": "code",
   "execution_count": 13,
   "metadata": {},
   "outputs": [
    {
     "output_type": "stream",
     "name": "stdout",
     "text": [
      "313.844 ktoe in 2017\n"
     ]
    }
   ],
   "source": [
    "biotransport_ktoe = tr[cz & bio & fc][2017].sum()\n",
    "print(f'{round(biotransport_ktoe, 3)} ktoe in 2017')"
   ]
  },
  {
   "cell_type": "code",
   "execution_count": null,
   "metadata": {},
   "outputs": [],
   "source": []
  }
 ]
}